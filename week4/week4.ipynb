{
  "nbformat": 4,
  "nbformat_minor": 0,
  "metadata": {
    "colab": {
      "name": "week4.ipynb",
      "provenance": []
    },
    "kernelspec": {
      "name": "python3",
      "display_name": "Python 3"
    },
    "language_info": {
      "name": "python"
    }
  },
  "cells": [
    {
      "cell_type": "code",
      "source": [
        "import pandas as pd\n",
        "import numpy as np\n",
        "robots=[[24,23680],[35,],[46,47350],[27,]]\n",
        "data=pd.DataFrame(robots,columns=[\"max_speed\",\"price\"])\n",
        "print(data)"
      ],
      "metadata": {
        "colab": {
          "base_uri": "https://localhost:8080/"
        },
        "id": "DnqtYYlZDqfE",
        "outputId": "f3119757-ef2b-43ac-c86c-62a86127647e"
      },
      "execution_count": 1,
      "outputs": [
        {
          "output_type": "stream",
          "name": "stdout",
          "text": [
            "   max_speed    price\n",
            "0         24  23680.0\n",
            "1         35      NaN\n",
            "2         46  47350.0\n",
            "3         27      NaN\n"
          ]
        }
      ]
    },
    {
      "cell_type": "code",
      "source": [
        "data.dropna(subset=[\"price\"],axis=0,inplace=True)\n",
        "print(data)"
      ],
      "metadata": {
        "colab": {
          "base_uri": "https://localhost:8080/"
        },
        "id": "gWhPRNL5DsSd",
        "outputId": "128a96ac-dfac-4de1-f9d0-7eabf416c28e"
      },
      "execution_count": 2,
      "outputs": [
        {
          "output_type": "stream",
          "name": "stdout",
          "text": [
            "   max_speed    price\n",
            "0         24  23680.0\n",
            "2         46  47350.0\n"
          ]
        }
      ]
    },
    {
      "cell_type": "code",
      "source": [
        "data=pd.DataFrame(robots,columns=[\"max_speed\",\"price\"])\n",
        "mean=data[\"price\"].mean()\n",
        "data.replace(np.NAN,mean,inplace=True)\n",
        "print(data)"
      ],
      "metadata": {
        "colab": {
          "base_uri": "https://localhost:8080/"
        },
        "id": "Rn7k-V8EDsVB",
        "outputId": "eedc138d-2b9a-4eac-8216-f1464972db5a"
      },
      "execution_count": 3,
      "outputs": [
        {
          "output_type": "stream",
          "name": "stdout",
          "text": [
            "   max_speed    price\n",
            "0         24  23680.0\n",
            "1         35  35515.0\n",
            "2         46  47350.0\n",
            "3         27  35515.0\n"
          ]
        }
      ]
    },
    {
      "cell_type": "code",
      "source": [
        "from google.colab import drive\n",
        "drive.mount('/content/drive')"
      ],
      "metadata": {
        "colab": {
          "base_uri": "https://localhost:8080/"
        },
        "id": "HNhULOuUDxPT",
        "outputId": "c2340d4c-f2db-423e-f631-ac3a4ef06618"
      },
      "execution_count": 4,
      "outputs": [
        {
          "output_type": "stream",
          "name": "stdout",
          "text": [
            "Mounted at /content/drive\n"
          ]
        }
      ]
    },
    {
      "cell_type": "code",
      "source": [
        "import pandas as pd\n",
        "df=pd.read_csv(\"/content/drive/MyDrive/Colab Notebooks/데이터마이닝/datas/iris_missing_values.csv\")\n",
        "df.index.name=\"record\"\n",
        "print(df.head())"
      ],
      "metadata": {
        "colab": {
          "base_uri": "https://localhost:8080/"
        },
        "id": "Vc-1lHvvDsXj",
        "outputId": "5241959e-742f-47cf-b2e8-3f70ac864410"
      },
      "execution_count": 5,
      "outputs": [
        {
          "output_type": "stream",
          "name": "stdout",
          "text": [
            "        sepal length in cm  sepal width in cm  petal length in cm  \\\n",
            "record                                                              \n",
            "0                      NaN                3.5                 1.4   \n",
            "1                      4.9                3.0                 1.4   \n",
            "2                      NaN                3.2                 1.3   \n",
            "3                      4.6                3.1                 1.5   \n",
            "4                      5.0                3.6                 1.4   \n",
            "\n",
            "        petal width in cm species  \n",
            "record                             \n",
            "0                     0.2  setosa  \n",
            "1                     0.2  setosa  \n",
            "2                     0.2  setosa  \n",
            "3                     0.2  setosa  \n",
            "4                     0.2  setosa  \n"
          ]
        }
      ]
    },
    {
      "cell_type": "code",
      "source": [
        "# get boolean True/False response for each datapoint for NaNs\n",
        "df[\"sepal length in cm\"].isnull()"
      ],
      "metadata": {
        "colab": {
          "base_uri": "https://localhost:8080/"
        },
        "id": "AWmkRLsoDsZ1",
        "outputId": "0e202675-38fc-4c47-d110-b21f4aa14c96"
      },
      "execution_count": 6,
      "outputs": [
        {
          "output_type": "execute_result",
          "data": {
            "text/plain": [
              "record\n",
              "0       True\n",
              "1      False\n",
              "2       True\n",
              "3      False\n",
              "4      False\n",
              "       ...  \n",
              "145    False\n",
              "146    False\n",
              "147    False\n",
              "148    False\n",
              "149    False\n",
              "Name: sepal length in cm, Length: 150, dtype: bool"
            ]
          },
          "metadata": {},
          "execution_count": 6
        }
      ]
    },
    {
      "cell_type": "code",
      "source": [
        "#check if any missing values in column\n",
        "df[\"sepal length in cm\"].isnull().values.any()"
      ],
      "metadata": {
        "colab": {
          "base_uri": "https://localhost:8080/"
        },
        "id": "ELcK7TtMD64s",
        "outputId": "b4a05335-9d21-452c-cfb9-d18fa17541b9"
      },
      "execution_count": 7,
      "outputs": [
        {
          "output_type": "execute_result",
          "data": {
            "text/plain": [
              "True"
            ]
          },
          "metadata": {},
          "execution_count": 7
        }
      ]
    },
    {
      "cell_type": "code",
      "source": [
        "# get number of many missing values in column\n",
        "df[\"sepal length in cm\"].isnull().values.sum()"
      ],
      "metadata": {
        "colab": {
          "base_uri": "https://localhost:8080/"
        },
        "id": "PaZ60LqyD67N",
        "outputId": "bfd9f347-0138-4e70-e602-066ed241946d"
      },
      "execution_count": 8,
      "outputs": [
        {
          "output_type": "execute_result",
          "data": {
            "text/plain": [
              "6"
            ]
          },
          "metadata": {},
          "execution_count": 8
        }
      ]
    },
    {
      "cell_type": "code",
      "source": [
        "# fill missing values with new values, store in new \"df example\" dataframe\n",
        "df_example=df[\"sepal length in cm\"].fillna(\"example\")\n",
        "print(df_example)"
      ],
      "metadata": {
        "colab": {
          "base_uri": "https://localhost:8080/"
        },
        "id": "0HwuYqT2D69r",
        "outputId": "ab27143f-df4c-4688-fb0a-e8bfe534f280"
      },
      "execution_count": 9,
      "outputs": [
        {
          "output_type": "stream",
          "name": "stdout",
          "text": [
            "record\n",
            "0      example\n",
            "1          4.9\n",
            "2      example\n",
            "3          4.6\n",
            "4          5.0\n",
            "        ...   \n",
            "145        6.7\n",
            "146        6.3\n",
            "147        6.5\n",
            "148        6.2\n",
            "149        5.9\n",
            "Name: sepal length in cm, Length: 150, dtype: object\n"
          ]
        }
      ]
    },
    {
      "cell_type": "code",
      "source": [
        "df_dropped=df.dropna(axis=0)\n",
        "df_dropped.head()"
      ],
      "metadata": {
        "colab": {
          "base_uri": "https://localhost:8080/",
          "height": 238
        },
        "id": "nP9MvY2kD7AU",
        "outputId": "14e8ac77-f367-47ad-954c-840385a0ff4b"
      },
      "execution_count": 10,
      "outputs": [
        {
          "output_type": "execute_result",
          "data": {
            "text/plain": [
              "        sepal length in cm  sepal width in cm  petal length in cm  \\\n",
              "record                                                              \n",
              "1                      4.9                3.0                 1.4   \n",
              "3                      4.6                3.1                 1.5   \n",
              "4                      5.0                3.6                 1.4   \n",
              "6                      4.6                3.4                 1.4   \n",
              "7                      5.0                3.4                 1.5   \n",
              "\n",
              "        petal width in cm species  \n",
              "record                             \n",
              "1                     0.2  setosa  \n",
              "3                     0.2  setosa  \n",
              "4                     0.2  setosa  \n",
              "6                     0.3  setosa  \n",
              "7                     0.2  setosa  "
            ],
            "text/html": [
              "\n",
              "  <div id=\"df-b8e7b34b-b941-447b-ab0a-8d6a494dd8a1\">\n",
              "    <div class=\"colab-df-container\">\n",
              "      <div>\n",
              "<style scoped>\n",
              "    .dataframe tbody tr th:only-of-type {\n",
              "        vertical-align: middle;\n",
              "    }\n",
              "\n",
              "    .dataframe tbody tr th {\n",
              "        vertical-align: top;\n",
              "    }\n",
              "\n",
              "    .dataframe thead th {\n",
              "        text-align: right;\n",
              "    }\n",
              "</style>\n",
              "<table border=\"1\" class=\"dataframe\">\n",
              "  <thead>\n",
              "    <tr style=\"text-align: right;\">\n",
              "      <th></th>\n",
              "      <th>sepal length in cm</th>\n",
              "      <th>sepal width in cm</th>\n",
              "      <th>petal length in cm</th>\n",
              "      <th>petal width in cm</th>\n",
              "      <th>species</th>\n",
              "    </tr>\n",
              "    <tr>\n",
              "      <th>record</th>\n",
              "      <th></th>\n",
              "      <th></th>\n",
              "      <th></th>\n",
              "      <th></th>\n",
              "      <th></th>\n",
              "    </tr>\n",
              "  </thead>\n",
              "  <tbody>\n",
              "    <tr>\n",
              "      <th>1</th>\n",
              "      <td>4.9</td>\n",
              "      <td>3.0</td>\n",
              "      <td>1.4</td>\n",
              "      <td>0.2</td>\n",
              "      <td>setosa</td>\n",
              "    </tr>\n",
              "    <tr>\n",
              "      <th>3</th>\n",
              "      <td>4.6</td>\n",
              "      <td>3.1</td>\n",
              "      <td>1.5</td>\n",
              "      <td>0.2</td>\n",
              "      <td>setosa</td>\n",
              "    </tr>\n",
              "    <tr>\n",
              "      <th>4</th>\n",
              "      <td>5.0</td>\n",
              "      <td>3.6</td>\n",
              "      <td>1.4</td>\n",
              "      <td>0.2</td>\n",
              "      <td>setosa</td>\n",
              "    </tr>\n",
              "    <tr>\n",
              "      <th>6</th>\n",
              "      <td>4.6</td>\n",
              "      <td>3.4</td>\n",
              "      <td>1.4</td>\n",
              "      <td>0.3</td>\n",
              "      <td>setosa</td>\n",
              "    </tr>\n",
              "    <tr>\n",
              "      <th>7</th>\n",
              "      <td>5.0</td>\n",
              "      <td>3.4</td>\n",
              "      <td>1.5</td>\n",
              "      <td>0.2</td>\n",
              "      <td>setosa</td>\n",
              "    </tr>\n",
              "  </tbody>\n",
              "</table>\n",
              "</div>\n",
              "      <button class=\"colab-df-convert\" onclick=\"convertToInteractive('df-b8e7b34b-b941-447b-ab0a-8d6a494dd8a1')\"\n",
              "              title=\"Convert this dataframe to an interactive table.\"\n",
              "              style=\"display:none;\">\n",
              "        \n",
              "  <svg xmlns=\"http://www.w3.org/2000/svg\" height=\"24px\"viewBox=\"0 0 24 24\"\n",
              "       width=\"24px\">\n",
              "    <path d=\"M0 0h24v24H0V0z\" fill=\"none\"/>\n",
              "    <path d=\"M18.56 5.44l.94 2.06.94-2.06 2.06-.94-2.06-.94-.94-2.06-.94 2.06-2.06.94zm-11 1L8.5 8.5l.94-2.06 2.06-.94-2.06-.94L8.5 2.5l-.94 2.06-2.06.94zm10 10l.94 2.06.94-2.06 2.06-.94-2.06-.94-.94-2.06-.94 2.06-2.06.94z\"/><path d=\"M17.41 7.96l-1.37-1.37c-.4-.4-.92-.59-1.43-.59-.52 0-1.04.2-1.43.59L10.3 9.45l-7.72 7.72c-.78.78-.78 2.05 0 2.83L4 21.41c.39.39.9.59 1.41.59.51 0 1.02-.2 1.41-.59l7.78-7.78 2.81-2.81c.8-.78.8-2.07 0-2.86zM5.41 20L4 18.59l7.72-7.72 1.47 1.35L5.41 20z\"/>\n",
              "  </svg>\n",
              "      </button>\n",
              "      \n",
              "  <style>\n",
              "    .colab-df-container {\n",
              "      display:flex;\n",
              "      flex-wrap:wrap;\n",
              "      gap: 12px;\n",
              "    }\n",
              "\n",
              "    .colab-df-convert {\n",
              "      background-color: #E8F0FE;\n",
              "      border: none;\n",
              "      border-radius: 50%;\n",
              "      cursor: pointer;\n",
              "      display: none;\n",
              "      fill: #1967D2;\n",
              "      height: 32px;\n",
              "      padding: 0 0 0 0;\n",
              "      width: 32px;\n",
              "    }\n",
              "\n",
              "    .colab-df-convert:hover {\n",
              "      background-color: #E2EBFA;\n",
              "      box-shadow: 0px 1px 2px rgba(60, 64, 67, 0.3), 0px 1px 3px 1px rgba(60, 64, 67, 0.15);\n",
              "      fill: #174EA6;\n",
              "    }\n",
              "\n",
              "    [theme=dark] .colab-df-convert {\n",
              "      background-color: #3B4455;\n",
              "      fill: #D2E3FC;\n",
              "    }\n",
              "\n",
              "    [theme=dark] .colab-df-convert:hover {\n",
              "      background-color: #434B5C;\n",
              "      box-shadow: 0px 1px 3px 1px rgba(0, 0, 0, 0.15);\n",
              "      filter: drop-shadow(0px 1px 2px rgba(0, 0, 0, 0.3));\n",
              "      fill: #FFFFFF;\n",
              "    }\n",
              "  </style>\n",
              "\n",
              "      <script>\n",
              "        const buttonEl =\n",
              "          document.querySelector('#df-b8e7b34b-b941-447b-ab0a-8d6a494dd8a1 button.colab-df-convert');\n",
              "        buttonEl.style.display =\n",
              "          google.colab.kernel.accessAllowed ? 'block' : 'none';\n",
              "\n",
              "        async function convertToInteractive(key) {\n",
              "          const element = document.querySelector('#df-b8e7b34b-b941-447b-ab0a-8d6a494dd8a1');\n",
              "          const dataTable =\n",
              "            await google.colab.kernel.invokeFunction('convertToInteractive',\n",
              "                                                     [key], {});\n",
              "          if (!dataTable) return;\n",
              "\n",
              "          const docLinkHtml = 'Like what you see? Visit the ' +\n",
              "            '<a target=\"_blank\" href=https://colab.research.google.com/notebooks/data_table.ipynb>data table notebook</a>'\n",
              "            + ' to learn more about interactive tables.';\n",
              "          element.innerHTML = '';\n",
              "          dataTable['output_type'] = 'display_data';\n",
              "          await google.colab.output.renderOutput(dataTable, element);\n",
              "          const docLink = document.createElement('div');\n",
              "          docLink.innerHTML = docLinkHtml;\n",
              "          element.appendChild(docLink);\n",
              "        }\n",
              "      </script>\n",
              "    </div>\n",
              "  </div>\n",
              "  "
            ]
          },
          "metadata": {},
          "execution_count": 10
        }
      ]
    },
    {
      "cell_type": "code",
      "source": [
        "df_dropped=df.dropna(axis=1) #모든 열이 결측치인 행이 있어 출력결과 none이 됨\n",
        "df_dropped.head()"
      ],
      "metadata": {
        "colab": {
          "base_uri": "https://localhost:8080/",
          "height": 220
        },
        "id": "PsjPdJtqD7Ct",
        "outputId": "73e7e4a9-6e91-4292-9a1f-a7304248be13"
      },
      "execution_count": 11,
      "outputs": [
        {
          "output_type": "execute_result",
          "data": {
            "text/plain": [
              "Empty DataFrame\n",
              "Columns: []\n",
              "Index: [0, 1, 2, 3, 4]"
            ],
            "text/html": [
              "\n",
              "  <div id=\"df-1deef91a-e18b-4cef-b127-5fccb370aebe\">\n",
              "    <div class=\"colab-df-container\">\n",
              "      <div>\n",
              "<style scoped>\n",
              "    .dataframe tbody tr th:only-of-type {\n",
              "        vertical-align: middle;\n",
              "    }\n",
              "\n",
              "    .dataframe tbody tr th {\n",
              "        vertical-align: top;\n",
              "    }\n",
              "\n",
              "    .dataframe thead th {\n",
              "        text-align: right;\n",
              "    }\n",
              "</style>\n",
              "<table border=\"1\" class=\"dataframe\">\n",
              "  <thead>\n",
              "    <tr style=\"text-align: right;\">\n",
              "      <th></th>\n",
              "    </tr>\n",
              "    <tr>\n",
              "      <th>record</th>\n",
              "    </tr>\n",
              "  </thead>\n",
              "  <tbody>\n",
              "    <tr>\n",
              "      <th>0</th>\n",
              "    </tr>\n",
              "    <tr>\n",
              "      <th>1</th>\n",
              "    </tr>\n",
              "    <tr>\n",
              "      <th>2</th>\n",
              "    </tr>\n",
              "    <tr>\n",
              "      <th>3</th>\n",
              "    </tr>\n",
              "    <tr>\n",
              "      <th>4</th>\n",
              "    </tr>\n",
              "  </tbody>\n",
              "</table>\n",
              "</div>\n",
              "      <button class=\"colab-df-convert\" onclick=\"convertToInteractive('df-1deef91a-e18b-4cef-b127-5fccb370aebe')\"\n",
              "              title=\"Convert this dataframe to an interactive table.\"\n",
              "              style=\"display:none;\">\n",
              "        \n",
              "  <svg xmlns=\"http://www.w3.org/2000/svg\" height=\"24px\"viewBox=\"0 0 24 24\"\n",
              "       width=\"24px\">\n",
              "    <path d=\"M0 0h24v24H0V0z\" fill=\"none\"/>\n",
              "    <path d=\"M18.56 5.44l.94 2.06.94-2.06 2.06-.94-2.06-.94-.94-2.06-.94 2.06-2.06.94zm-11 1L8.5 8.5l.94-2.06 2.06-.94-2.06-.94L8.5 2.5l-.94 2.06-2.06.94zm10 10l.94 2.06.94-2.06 2.06-.94-2.06-.94-.94-2.06-.94 2.06-2.06.94z\"/><path d=\"M17.41 7.96l-1.37-1.37c-.4-.4-.92-.59-1.43-.59-.52 0-1.04.2-1.43.59L10.3 9.45l-7.72 7.72c-.78.78-.78 2.05 0 2.83L4 21.41c.39.39.9.59 1.41.59.51 0 1.02-.2 1.41-.59l7.78-7.78 2.81-2.81c.8-.78.8-2.07 0-2.86zM5.41 20L4 18.59l7.72-7.72 1.47 1.35L5.41 20z\"/>\n",
              "  </svg>\n",
              "      </button>\n",
              "      \n",
              "  <style>\n",
              "    .colab-df-container {\n",
              "      display:flex;\n",
              "      flex-wrap:wrap;\n",
              "      gap: 12px;\n",
              "    }\n",
              "\n",
              "    .colab-df-convert {\n",
              "      background-color: #E8F0FE;\n",
              "      border: none;\n",
              "      border-radius: 50%;\n",
              "      cursor: pointer;\n",
              "      display: none;\n",
              "      fill: #1967D2;\n",
              "      height: 32px;\n",
              "      padding: 0 0 0 0;\n",
              "      width: 32px;\n",
              "    }\n",
              "\n",
              "    .colab-df-convert:hover {\n",
              "      background-color: #E2EBFA;\n",
              "      box-shadow: 0px 1px 2px rgba(60, 64, 67, 0.3), 0px 1px 3px 1px rgba(60, 64, 67, 0.15);\n",
              "      fill: #174EA6;\n",
              "    }\n",
              "\n",
              "    [theme=dark] .colab-df-convert {\n",
              "      background-color: #3B4455;\n",
              "      fill: #D2E3FC;\n",
              "    }\n",
              "\n",
              "    [theme=dark] .colab-df-convert:hover {\n",
              "      background-color: #434B5C;\n",
              "      box-shadow: 0px 1px 3px 1px rgba(0, 0, 0, 0.15);\n",
              "      filter: drop-shadow(0px 1px 2px rgba(0, 0, 0, 0.3));\n",
              "      fill: #FFFFFF;\n",
              "    }\n",
              "  </style>\n",
              "\n",
              "      <script>\n",
              "        const buttonEl =\n",
              "          document.querySelector('#df-1deef91a-e18b-4cef-b127-5fccb370aebe button.colab-df-convert');\n",
              "        buttonEl.style.display =\n",
              "          google.colab.kernel.accessAllowed ? 'block' : 'none';\n",
              "\n",
              "        async function convertToInteractive(key) {\n",
              "          const element = document.querySelector('#df-1deef91a-e18b-4cef-b127-5fccb370aebe');\n",
              "          const dataTable =\n",
              "            await google.colab.kernel.invokeFunction('convertToInteractive',\n",
              "                                                     [key], {});\n",
              "          if (!dataTable) return;\n",
              "\n",
              "          const docLinkHtml = 'Like what you see? Visit the ' +\n",
              "            '<a target=\"_blank\" href=https://colab.research.google.com/notebooks/data_table.ipynb>data table notebook</a>'\n",
              "            + ' to learn more about interactive tables.';\n",
              "          element.innerHTML = '';\n",
              "          dataTable['output_type'] = 'display_data';\n",
              "          await google.colab.output.renderOutput(dataTable, element);\n",
              "          const docLink = document.createElement('div');\n",
              "          docLink.innerHTML = docLinkHtml;\n",
              "          element.appendChild(docLink);\n",
              "        }\n",
              "      </script>\n",
              "    </div>\n",
              "  </div>\n",
              "  "
            ]
          },
          "metadata": {},
          "execution_count": 11
        }
      ]
    },
    {
      "cell_type": "code",
      "source": [
        "from sklearn.impute import SimpleImputer\n",
        "import numpy as np\n",
        "imputer=SimpleImputer(missing_values=np.nan,strategy=\"mean\")\n",
        "cols=[\"sepal length in cm\", \"sepal width in cm\", \"petal length in cm\",\"petal width in cm\"]"
      ],
      "metadata": {
        "id": "bFP4B9uWD7E7"
      },
      "execution_count": 12,
      "outputs": []
    },
    {
      "cell_type": "code",
      "source": [
        "df=pd.read_csv(\"/content/drive/MyDrive/Colab Notebooks/데이터마이닝/datas/iris_missing_values.csv\")\n",
        "df.index.name=\"record\"\n",
        "print(df.head())"
      ],
      "metadata": {
        "colab": {
          "base_uri": "https://localhost:8080/"
        },
        "id": "rXrb7ZksECrt",
        "outputId": "e98fb20f-b904-454b-f740-e2b76fe70465"
      },
      "execution_count": 13,
      "outputs": [
        {
          "output_type": "stream",
          "name": "stdout",
          "text": [
            "        sepal length in cm  sepal width in cm  petal length in cm  \\\n",
            "record                                                              \n",
            "0                      NaN                3.5                 1.4   \n",
            "1                      4.9                3.0                 1.4   \n",
            "2                      NaN                3.2                 1.3   \n",
            "3                      4.6                3.1                 1.5   \n",
            "4                      5.0                3.6                 1.4   \n",
            "\n",
            "        petal width in cm species  \n",
            "record                             \n",
            "0                     0.2  setosa  \n",
            "1                     0.2  setosa  \n",
            "2                     0.2  setosa  \n",
            "3                     0.2  setosa  \n",
            "4                     0.2  setosa  \n"
          ]
        }
      ]
    },
    {
      "cell_type": "code",
      "source": [
        "out_imp=imputer.fit_transform(df[cols])\n",
        "df_new=pd.DataFrame(data=out_imp,columns=cols)\n",
        "df_new=pd.concat([df_new,df[[\"species\"]]],axis=1)\n",
        "print(df_new.head())"
      ],
      "metadata": {
        "colab": {
          "base_uri": "https://localhost:8080/"
        },
        "id": "qDHQkUMrECuR",
        "outputId": "edb23cf0-48c1-43f8-b914-c5dcdce2608b"
      },
      "execution_count": 14,
      "outputs": [
        {
          "output_type": "stream",
          "name": "stdout",
          "text": [
            "   sepal length in cm  sepal width in cm  petal length in cm  \\\n",
            "0            5.870139                3.5                 1.4   \n",
            "1            4.900000                3.0                 1.4   \n",
            "2            5.870139                3.2                 1.3   \n",
            "3            4.600000                3.1                 1.5   \n",
            "4            5.000000                3.6                 1.4   \n",
            "\n",
            "   petal width in cm species  \n",
            "0                0.2  setosa  \n",
            "1                0.2  setosa  \n",
            "2                0.2  setosa  \n",
            "3                0.2  setosa  \n",
            "4                0.2  setosa  \n"
          ]
        }
      ]
    },
    {
      "cell_type": "code",
      "source": [
        "price=np.random.randint(100,size=8)*10000\n",
        "cars=pd.DataFrame(price,columns=[\"price\"])\n",
        "cars"
      ],
      "metadata": {
        "colab": {
          "base_uri": "https://localhost:8080/",
          "height": 300
        },
        "id": "Ay5gnhn7ECwp",
        "outputId": "0ef1b713-0736-4b56-cb8d-242c5675f018"
      },
      "execution_count": 15,
      "outputs": [
        {
          "output_type": "execute_result",
          "data": {
            "text/plain": [
              "    price\n",
              "0  480000\n",
              "1  770000\n",
              "2  320000\n",
              "3  870000\n",
              "4   90000\n",
              "5  860000\n",
              "6  350000\n",
              "7  900000"
            ],
            "text/html": [
              "\n",
              "  <div id=\"df-84eeee94-fc2e-4a06-ac5f-9827790231c5\">\n",
              "    <div class=\"colab-df-container\">\n",
              "      <div>\n",
              "<style scoped>\n",
              "    .dataframe tbody tr th:only-of-type {\n",
              "        vertical-align: middle;\n",
              "    }\n",
              "\n",
              "    .dataframe tbody tr th {\n",
              "        vertical-align: top;\n",
              "    }\n",
              "\n",
              "    .dataframe thead th {\n",
              "        text-align: right;\n",
              "    }\n",
              "</style>\n",
              "<table border=\"1\" class=\"dataframe\">\n",
              "  <thead>\n",
              "    <tr style=\"text-align: right;\">\n",
              "      <th></th>\n",
              "      <th>price</th>\n",
              "    </tr>\n",
              "  </thead>\n",
              "  <tbody>\n",
              "    <tr>\n",
              "      <th>0</th>\n",
              "      <td>480000</td>\n",
              "    </tr>\n",
              "    <tr>\n",
              "      <th>1</th>\n",
              "      <td>770000</td>\n",
              "    </tr>\n",
              "    <tr>\n",
              "      <th>2</th>\n",
              "      <td>320000</td>\n",
              "    </tr>\n",
              "    <tr>\n",
              "      <th>3</th>\n",
              "      <td>870000</td>\n",
              "    </tr>\n",
              "    <tr>\n",
              "      <th>4</th>\n",
              "      <td>90000</td>\n",
              "    </tr>\n",
              "    <tr>\n",
              "      <th>5</th>\n",
              "      <td>860000</td>\n",
              "    </tr>\n",
              "    <tr>\n",
              "      <th>6</th>\n",
              "      <td>350000</td>\n",
              "    </tr>\n",
              "    <tr>\n",
              "      <th>7</th>\n",
              "      <td>900000</td>\n",
              "    </tr>\n",
              "  </tbody>\n",
              "</table>\n",
              "</div>\n",
              "      <button class=\"colab-df-convert\" onclick=\"convertToInteractive('df-84eeee94-fc2e-4a06-ac5f-9827790231c5')\"\n",
              "              title=\"Convert this dataframe to an interactive table.\"\n",
              "              style=\"display:none;\">\n",
              "        \n",
              "  <svg xmlns=\"http://www.w3.org/2000/svg\" height=\"24px\"viewBox=\"0 0 24 24\"\n",
              "       width=\"24px\">\n",
              "    <path d=\"M0 0h24v24H0V0z\" fill=\"none\"/>\n",
              "    <path d=\"M18.56 5.44l.94 2.06.94-2.06 2.06-.94-2.06-.94-.94-2.06-.94 2.06-2.06.94zm-11 1L8.5 8.5l.94-2.06 2.06-.94-2.06-.94L8.5 2.5l-.94 2.06-2.06.94zm10 10l.94 2.06.94-2.06 2.06-.94-2.06-.94-.94-2.06-.94 2.06-2.06.94z\"/><path d=\"M17.41 7.96l-1.37-1.37c-.4-.4-.92-.59-1.43-.59-.52 0-1.04.2-1.43.59L10.3 9.45l-7.72 7.72c-.78.78-.78 2.05 0 2.83L4 21.41c.39.39.9.59 1.41.59.51 0 1.02-.2 1.41-.59l7.78-7.78 2.81-2.81c.8-.78.8-2.07 0-2.86zM5.41 20L4 18.59l7.72-7.72 1.47 1.35L5.41 20z\"/>\n",
              "  </svg>\n",
              "      </button>\n",
              "      \n",
              "  <style>\n",
              "    .colab-df-container {\n",
              "      display:flex;\n",
              "      flex-wrap:wrap;\n",
              "      gap: 12px;\n",
              "    }\n",
              "\n",
              "    .colab-df-convert {\n",
              "      background-color: #E8F0FE;\n",
              "      border: none;\n",
              "      border-radius: 50%;\n",
              "      cursor: pointer;\n",
              "      display: none;\n",
              "      fill: #1967D2;\n",
              "      height: 32px;\n",
              "      padding: 0 0 0 0;\n",
              "      width: 32px;\n",
              "    }\n",
              "\n",
              "    .colab-df-convert:hover {\n",
              "      background-color: #E2EBFA;\n",
              "      box-shadow: 0px 1px 2px rgba(60, 64, 67, 0.3), 0px 1px 3px 1px rgba(60, 64, 67, 0.15);\n",
              "      fill: #174EA6;\n",
              "    }\n",
              "\n",
              "    [theme=dark] .colab-df-convert {\n",
              "      background-color: #3B4455;\n",
              "      fill: #D2E3FC;\n",
              "    }\n",
              "\n",
              "    [theme=dark] .colab-df-convert:hover {\n",
              "      background-color: #434B5C;\n",
              "      box-shadow: 0px 1px 3px 1px rgba(0, 0, 0, 0.15);\n",
              "      filter: drop-shadow(0px 1px 2px rgba(0, 0, 0, 0.3));\n",
              "      fill: #FFFFFF;\n",
              "    }\n",
              "  </style>\n",
              "\n",
              "      <script>\n",
              "        const buttonEl =\n",
              "          document.querySelector('#df-84eeee94-fc2e-4a06-ac5f-9827790231c5 button.colab-df-convert');\n",
              "        buttonEl.style.display =\n",
              "          google.colab.kernel.accessAllowed ? 'block' : 'none';\n",
              "\n",
              "        async function convertToInteractive(key) {\n",
              "          const element = document.querySelector('#df-84eeee94-fc2e-4a06-ac5f-9827790231c5');\n",
              "          const dataTable =\n",
              "            await google.colab.kernel.invokeFunction('convertToInteractive',\n",
              "                                                     [key], {});\n",
              "          if (!dataTable) return;\n",
              "\n",
              "          const docLinkHtml = 'Like what you see? Visit the ' +\n",
              "            '<a target=\"_blank\" href=https://colab.research.google.com/notebooks/data_table.ipynb>data table notebook</a>'\n",
              "            + ' to learn more about interactive tables.';\n",
              "          element.innerHTML = '';\n",
              "          dataTable['output_type'] = 'display_data';\n",
              "          await google.colab.output.renderOutput(dataTable, element);\n",
              "          const docLink = document.createElement('div');\n",
              "          docLink.innerHTML = docLinkHtml;\n",
              "          element.appendChild(docLink);\n",
              "        }\n",
              "      </script>\n",
              "    </div>\n",
              "  </div>\n",
              "  "
            ]
          },
          "metadata": {},
          "execution_count": 15
        }
      ]
    },
    {
      "cell_type": "code",
      "source": [
        "group_names=[\"low\",\"mid\",\"high\"]\n",
        "cars[\"level\"],mybin=pd.cut(cars[\"price\"],3,labels=group_names,retbins=True)\n",
        "cars"
      ],
      "metadata": {
        "colab": {
          "base_uri": "https://localhost:8080/",
          "height": 300
        },
        "id": "14XbCrv2ECzF",
        "outputId": "0f45e03f-d665-4019-84c3-b38feb5119ef"
      },
      "execution_count": 16,
      "outputs": [
        {
          "output_type": "execute_result",
          "data": {
            "text/plain": [
              "    price level\n",
              "0  480000   mid\n",
              "1  770000  high\n",
              "2  320000   low\n",
              "3  870000  high\n",
              "4   90000   low\n",
              "5  860000  high\n",
              "6  350000   low\n",
              "7  900000  high"
            ],
            "text/html": [
              "\n",
              "  <div id=\"df-8a249f99-303a-4f09-b0d6-28d0fbd53fd5\">\n",
              "    <div class=\"colab-df-container\">\n",
              "      <div>\n",
              "<style scoped>\n",
              "    .dataframe tbody tr th:only-of-type {\n",
              "        vertical-align: middle;\n",
              "    }\n",
              "\n",
              "    .dataframe tbody tr th {\n",
              "        vertical-align: top;\n",
              "    }\n",
              "\n",
              "    .dataframe thead th {\n",
              "        text-align: right;\n",
              "    }\n",
              "</style>\n",
              "<table border=\"1\" class=\"dataframe\">\n",
              "  <thead>\n",
              "    <tr style=\"text-align: right;\">\n",
              "      <th></th>\n",
              "      <th>price</th>\n",
              "      <th>level</th>\n",
              "    </tr>\n",
              "  </thead>\n",
              "  <tbody>\n",
              "    <tr>\n",
              "      <th>0</th>\n",
              "      <td>480000</td>\n",
              "      <td>mid</td>\n",
              "    </tr>\n",
              "    <tr>\n",
              "      <th>1</th>\n",
              "      <td>770000</td>\n",
              "      <td>high</td>\n",
              "    </tr>\n",
              "    <tr>\n",
              "      <th>2</th>\n",
              "      <td>320000</td>\n",
              "      <td>low</td>\n",
              "    </tr>\n",
              "    <tr>\n",
              "      <th>3</th>\n",
              "      <td>870000</td>\n",
              "      <td>high</td>\n",
              "    </tr>\n",
              "    <tr>\n",
              "      <th>4</th>\n",
              "      <td>90000</td>\n",
              "      <td>low</td>\n",
              "    </tr>\n",
              "    <tr>\n",
              "      <th>5</th>\n",
              "      <td>860000</td>\n",
              "      <td>high</td>\n",
              "    </tr>\n",
              "    <tr>\n",
              "      <th>6</th>\n",
              "      <td>350000</td>\n",
              "      <td>low</td>\n",
              "    </tr>\n",
              "    <tr>\n",
              "      <th>7</th>\n",
              "      <td>900000</td>\n",
              "      <td>high</td>\n",
              "    </tr>\n",
              "  </tbody>\n",
              "</table>\n",
              "</div>\n",
              "      <button class=\"colab-df-convert\" onclick=\"convertToInteractive('df-8a249f99-303a-4f09-b0d6-28d0fbd53fd5')\"\n",
              "              title=\"Convert this dataframe to an interactive table.\"\n",
              "              style=\"display:none;\">\n",
              "        \n",
              "  <svg xmlns=\"http://www.w3.org/2000/svg\" height=\"24px\"viewBox=\"0 0 24 24\"\n",
              "       width=\"24px\">\n",
              "    <path d=\"M0 0h24v24H0V0z\" fill=\"none\"/>\n",
              "    <path d=\"M18.56 5.44l.94 2.06.94-2.06 2.06-.94-2.06-.94-.94-2.06-.94 2.06-2.06.94zm-11 1L8.5 8.5l.94-2.06 2.06-.94-2.06-.94L8.5 2.5l-.94 2.06-2.06.94zm10 10l.94 2.06.94-2.06 2.06-.94-2.06-.94-.94-2.06-.94 2.06-2.06.94z\"/><path d=\"M17.41 7.96l-1.37-1.37c-.4-.4-.92-.59-1.43-.59-.52 0-1.04.2-1.43.59L10.3 9.45l-7.72 7.72c-.78.78-.78 2.05 0 2.83L4 21.41c.39.39.9.59 1.41.59.51 0 1.02-.2 1.41-.59l7.78-7.78 2.81-2.81c.8-.78.8-2.07 0-2.86zM5.41 20L4 18.59l7.72-7.72 1.47 1.35L5.41 20z\"/>\n",
              "  </svg>\n",
              "      </button>\n",
              "      \n",
              "  <style>\n",
              "    .colab-df-container {\n",
              "      display:flex;\n",
              "      flex-wrap:wrap;\n",
              "      gap: 12px;\n",
              "    }\n",
              "\n",
              "    .colab-df-convert {\n",
              "      background-color: #E8F0FE;\n",
              "      border: none;\n",
              "      border-radius: 50%;\n",
              "      cursor: pointer;\n",
              "      display: none;\n",
              "      fill: #1967D2;\n",
              "      height: 32px;\n",
              "      padding: 0 0 0 0;\n",
              "      width: 32px;\n",
              "    }\n",
              "\n",
              "    .colab-df-convert:hover {\n",
              "      background-color: #E2EBFA;\n",
              "      box-shadow: 0px 1px 2px rgba(60, 64, 67, 0.3), 0px 1px 3px 1px rgba(60, 64, 67, 0.15);\n",
              "      fill: #174EA6;\n",
              "    }\n",
              "\n",
              "    [theme=dark] .colab-df-convert {\n",
              "      background-color: #3B4455;\n",
              "      fill: #D2E3FC;\n",
              "    }\n",
              "\n",
              "    [theme=dark] .colab-df-convert:hover {\n",
              "      background-color: #434B5C;\n",
              "      box-shadow: 0px 1px 3px 1px rgba(0, 0, 0, 0.15);\n",
              "      filter: drop-shadow(0px 1px 2px rgba(0, 0, 0, 0.3));\n",
              "      fill: #FFFFFF;\n",
              "    }\n",
              "  </style>\n",
              "\n",
              "      <script>\n",
              "        const buttonEl =\n",
              "          document.querySelector('#df-8a249f99-303a-4f09-b0d6-28d0fbd53fd5 button.colab-df-convert');\n",
              "        buttonEl.style.display =\n",
              "          google.colab.kernel.accessAllowed ? 'block' : 'none';\n",
              "\n",
              "        async function convertToInteractive(key) {\n",
              "          const element = document.querySelector('#df-8a249f99-303a-4f09-b0d6-28d0fbd53fd5');\n",
              "          const dataTable =\n",
              "            await google.colab.kernel.invokeFunction('convertToInteractive',\n",
              "                                                     [key], {});\n",
              "          if (!dataTable) return;\n",
              "\n",
              "          const docLinkHtml = 'Like what you see? Visit the ' +\n",
              "            '<a target=\"_blank\" href=https://colab.research.google.com/notebooks/data_table.ipynb>data table notebook</a>'\n",
              "            + ' to learn more about interactive tables.';\n",
              "          element.innerHTML = '';\n",
              "          dataTable['output_type'] = 'display_data';\n",
              "          await google.colab.output.renderOutput(dataTable, element);\n",
              "          const docLink = document.createElement('div');\n",
              "          docLink.innerHTML = docLinkHtml;\n",
              "          element.appendChild(docLink);\n",
              "        }\n",
              "      </script>\n",
              "    </div>\n",
              "  </div>\n",
              "  "
            ]
          },
          "metadata": {},
          "execution_count": 16
        }
      ]
    },
    {
      "cell_type": "code",
      "source": [
        "mybin"
      ],
      "metadata": {
        "colab": {
          "base_uri": "https://localhost:8080/"
        },
        "id": "P3bHzaDlEC1c",
        "outputId": "6a0b8fbe-cbbc-49bf-d0e4-789cc7ece420"
      },
      "execution_count": 17,
      "outputs": [
        {
          "output_type": "execute_result",
          "data": {
            "text/plain": [
              "array([ 89190., 360000., 630000., 900000.])"
            ]
          },
          "metadata": {},
          "execution_count": 17
        }
      ]
    },
    {
      "cell_type": "code",
      "source": [
        "from sklearn.preprocessing import MinMaxScaler\n",
        "scaler=MinMaxScaler()\n",
        "\n",
        "#normalize the data and store in out_scaled numpy array\n",
        "out_scaled=scaler.fit_transform(df[cols])\n",
        "out_scaled"
      ],
      "metadata": {
        "colab": {
          "base_uri": "https://localhost:8080/"
        },
        "id": "mytW6QEOEKT_",
        "outputId": "033e4fbe-df25-44ba-d72c-fe67c9547dcd"
      },
      "execution_count": 18,
      "outputs": [
        {
          "output_type": "execute_result",
          "data": {
            "text/plain": [
              "array([[       nan, 0.68181818, 0.06779661, 0.04166667],\n",
              "       [0.16666667, 0.45454545, 0.06779661, 0.04166667],\n",
              "       [       nan, 0.54545455, 0.05084746, 0.04166667],\n",
              "       [0.08333333, 0.5       , 0.08474576, 0.04166667],\n",
              "       [0.19444444, 0.72727273, 0.06779661, 0.04166667],\n",
              "       [       nan, 0.86363636, 0.11864407, 0.125     ],\n",
              "       [0.08333333, 0.63636364, 0.06779661, 0.08333333],\n",
              "       [0.19444444, 0.63636364, 0.08474576, 0.04166667],\n",
              "       [0.02777778, 0.40909091, 0.06779661, 0.04166667],\n",
              "       [       nan,        nan,        nan,        nan],\n",
              "       [0.30555556, 0.77272727, 0.08474576, 0.04166667],\n",
              "       [0.13888889, 0.63636364, 0.10169492, 0.04166667],\n",
              "       [0.13888889, 0.45454545, 0.06779661, 0.        ],\n",
              "       [0.        , 0.45454545, 0.01694915, 0.        ],\n",
              "       [0.41666667, 0.90909091, 0.03389831, 0.04166667],\n",
              "       [       nan,        nan,        nan,        nan],\n",
              "       [0.30555556, 0.86363636, 0.05084746, 0.125     ],\n",
              "       [0.22222222, 0.68181818, 0.06779661, 0.08333333],\n",
              "       [0.38888889, 0.81818182, 0.11864407, 0.08333333],\n",
              "       [0.22222222, 0.81818182, 0.08474576, 0.08333333],\n",
              "       [       nan,        nan,        nan,        nan],\n",
              "       [0.22222222, 0.77272727, 0.08474576, 0.125     ],\n",
              "       [0.08333333, 0.72727273, 0.        , 0.04166667],\n",
              "       [0.22222222, 0.59090909, 0.11864407, 0.16666667],\n",
              "       [0.13888889, 0.63636364, 0.15254237, 0.04166667],\n",
              "       [0.19444444, 0.45454545, 0.10169492, 0.04166667],\n",
              "       [0.19444444, 0.63636364, 0.10169492, 0.125     ],\n",
              "       [0.25      , 0.68181818, 0.08474576, 0.04166667],\n",
              "       [0.25      , 0.63636364, 0.06779661, 0.04166667],\n",
              "       [0.11111111, 0.54545455, 0.10169492, 0.04166667],\n",
              "       [0.13888889, 0.5       , 0.10169492, 0.04166667],\n",
              "       [0.30555556, 0.63636364, 0.08474576, 0.125     ],\n",
              "       [0.25      , 0.95454545, 0.08474576, 0.        ],\n",
              "       [0.33333333, 1.        , 0.06779661, 0.04166667],\n",
              "       [0.16666667, 0.5       , 0.08474576, 0.        ],\n",
              "       [0.19444444, 0.54545455, 0.03389831, 0.04166667],\n",
              "       [0.33333333, 0.68181818, 0.05084746, 0.04166667],\n",
              "       [0.16666667, 0.5       , 0.08474576, 0.        ],\n",
              "       [0.02777778, 0.45454545, 0.05084746, 0.04166667],\n",
              "       [0.22222222, 0.63636364, 0.08474576, 0.04166667],\n",
              "       [0.19444444, 0.68181818, 0.05084746, 0.08333333],\n",
              "       [0.05555556, 0.13636364, 0.05084746, 0.08333333],\n",
              "       [0.02777778, 0.54545455, 0.05084746, 0.04166667],\n",
              "       [0.19444444, 0.68181818, 0.10169492, 0.20833333],\n",
              "       [0.22222222, 0.81818182, 0.15254237, 0.125     ],\n",
              "       [0.13888889, 0.45454545, 0.06779661, 0.08333333],\n",
              "       [0.22222222, 0.81818182, 0.10169492, 0.04166667],\n",
              "       [0.08333333, 0.54545455, 0.06779661, 0.04166667],\n",
              "       [0.27777778, 0.77272727, 0.08474576, 0.04166667],\n",
              "       [0.19444444, 0.59090909, 0.06779661, 0.04166667],\n",
              "       [0.75      , 0.54545455, 0.62711864, 0.54166667],\n",
              "       [0.58333333, 0.54545455, 0.59322034, 0.58333333],\n",
              "       [0.72222222, 0.5       , 0.66101695, 0.58333333],\n",
              "       [0.33333333, 0.13636364, 0.50847458, 0.5       ],\n",
              "       [0.61111111, 0.36363636, 0.61016949, 0.58333333],\n",
              "       [0.38888889, 0.36363636, 0.59322034, 0.5       ],\n",
              "       [0.55555556, 0.59090909, 0.62711864, 0.625     ],\n",
              "       [0.16666667, 0.18181818, 0.38983051, 0.375     ],\n",
              "       [0.63888889, 0.40909091, 0.61016949, 0.5       ],\n",
              "       [0.25      , 0.31818182, 0.49152542, 0.54166667],\n",
              "       [0.19444444, 0.        , 0.42372881, 0.375     ],\n",
              "       [0.44444444, 0.45454545, 0.54237288, 0.58333333],\n",
              "       [0.47222222, 0.09090909, 0.50847458, 0.375     ],\n",
              "       [0.5       , 0.40909091, 0.62711864, 0.54166667],\n",
              "       [0.36111111, 0.40909091, 0.44067797, 0.5       ],\n",
              "       [0.66666667, 0.5       , 0.57627119, 0.54166667],\n",
              "       [0.36111111, 0.45454545, 0.59322034, 0.58333333],\n",
              "       [0.41666667, 0.31818182, 0.52542373, 0.375     ],\n",
              "       [0.52777778, 0.09090909, 0.59322034, 0.58333333],\n",
              "       [0.36111111, 0.22727273, 0.49152542, 0.41666667],\n",
              "       [0.44444444, 0.54545455, 0.6440678 , 0.70833333],\n",
              "       [0.5       , 0.36363636, 0.50847458, 0.5       ],\n",
              "       [0.55555556, 0.22727273, 0.66101695, 0.58333333],\n",
              "       [0.5       , 0.36363636, 0.62711864, 0.45833333],\n",
              "       [0.58333333, 0.40909091, 0.55932203, 0.5       ],\n",
              "       [0.63888889, 0.45454545, 0.57627119, 0.54166667],\n",
              "       [0.69444444, 0.36363636, 0.6440678 , 0.54166667],\n",
              "       [0.66666667, 0.45454545, 0.6779661 , 0.66666667],\n",
              "       [0.47222222, 0.40909091, 0.59322034, 0.58333333],\n",
              "       [0.38888889, 0.27272727, 0.42372881, 0.375     ],\n",
              "       [0.33333333, 0.18181818, 0.47457627, 0.41666667],\n",
              "       [0.33333333, 0.18181818, 0.45762712, 0.375     ],\n",
              "       [0.41666667, 0.31818182, 0.49152542, 0.45833333],\n",
              "       [0.47222222, 0.31818182, 0.69491525, 0.625     ],\n",
              "       [0.30555556, 0.45454545, 0.59322034, 0.58333333],\n",
              "       [0.47222222, 0.63636364, 0.59322034, 0.625     ],\n",
              "       [0.66666667, 0.5       , 0.62711864, 0.58333333],\n",
              "       [0.55555556, 0.13636364, 0.57627119, 0.5       ],\n",
              "       [0.36111111, 0.45454545, 0.52542373, 0.5       ],\n",
              "       [0.33333333, 0.22727273, 0.50847458, 0.5       ],\n",
              "       [0.33333333, 0.27272727, 0.57627119, 0.45833333],\n",
              "       [0.5       , 0.45454545, 0.61016949, 0.54166667],\n",
              "       [0.41666667, 0.27272727, 0.50847458, 0.45833333],\n",
              "       [0.19444444, 0.13636364, 0.38983051, 0.375     ],\n",
              "       [0.36111111, 0.31818182, 0.54237288, 0.5       ],\n",
              "       [0.38888889, 0.45454545, 0.54237288, 0.45833333],\n",
              "       [0.38888889, 0.40909091, 0.54237288, 0.5       ],\n",
              "       [0.52777778, 0.40909091, 0.55932203, 0.5       ],\n",
              "       [0.22222222, 0.22727273, 0.33898305, 0.41666667],\n",
              "       [0.38888889, 0.36363636, 0.52542373, 0.5       ],\n",
              "       [0.55555556, 0.59090909, 0.84745763, 1.        ],\n",
              "       [0.41666667, 0.31818182, 0.69491525, 0.75      ],\n",
              "       [0.77777778, 0.45454545, 0.83050847, 0.83333333],\n",
              "       [0.55555556, 0.40909091, 0.77966102, 0.70833333],\n",
              "       [0.61111111, 0.45454545, 0.81355932, 0.875     ],\n",
              "       [0.91666667, 0.45454545, 0.94915254, 0.83333333],\n",
              "       [0.16666667, 0.22727273, 0.59322034, 0.66666667],\n",
              "       [0.83333333, 0.40909091, 0.89830508, 0.70833333],\n",
              "       [0.66666667, 0.22727273, 0.81355932, 0.70833333],\n",
              "       [0.80555556, 0.72727273, 0.86440678, 1.        ],\n",
              "       [0.61111111, 0.54545455, 0.69491525, 0.79166667],\n",
              "       [0.58333333, 0.31818182, 0.72881356, 0.75      ],\n",
              "       [0.69444444, 0.45454545, 0.76271186, 0.83333333],\n",
              "       [0.38888889, 0.22727273, 0.6779661 , 0.79166667],\n",
              "       [0.41666667, 0.36363636, 0.69491525, 0.95833333],\n",
              "       [0.58333333, 0.54545455, 0.72881356, 0.91666667],\n",
              "       [0.61111111, 0.45454545, 0.76271186, 0.70833333],\n",
              "       [0.94444444, 0.81818182, 0.96610169, 0.875     ],\n",
              "       [0.94444444, 0.27272727, 1.        , 0.91666667],\n",
              "       [0.47222222, 0.09090909, 0.6779661 , 0.58333333],\n",
              "       [0.72222222, 0.54545455, 0.79661017, 0.91666667],\n",
              "       [0.36111111, 0.36363636, 0.66101695, 0.79166667],\n",
              "       [0.94444444, 0.36363636, 0.96610169, 0.79166667],\n",
              "       [0.55555556, 0.31818182, 0.66101695, 0.70833333],\n",
              "       [0.66666667, 0.59090909, 0.79661017, 0.83333333],\n",
              "       [0.80555556, 0.54545455, 0.84745763, 0.70833333],\n",
              "       [0.52777778, 0.36363636, 0.6440678 , 0.70833333],\n",
              "       [0.5       , 0.45454545, 0.66101695, 0.70833333],\n",
              "       [0.58333333, 0.36363636, 0.77966102, 0.83333333],\n",
              "       [0.80555556, 0.45454545, 0.81355932, 0.625     ],\n",
              "       [0.86111111, 0.36363636, 0.86440678, 0.75      ],\n",
              "       [1.        , 0.81818182, 0.91525424, 0.79166667],\n",
              "       [0.58333333, 0.36363636, 0.77966102, 0.875     ],\n",
              "       [0.55555556, 0.36363636, 0.69491525, 0.58333333],\n",
              "       [0.5       , 0.27272727, 0.77966102, 0.54166667],\n",
              "       [0.94444444, 0.45454545, 0.86440678, 0.91666667],\n",
              "       [0.55555556, 0.63636364, 0.77966102, 0.95833333],\n",
              "       [0.58333333, 0.5       , 0.76271186, 0.70833333],\n",
              "       [0.47222222, 0.45454545, 0.6440678 , 0.70833333],\n",
              "       [0.72222222, 0.5       , 0.74576271, 0.83333333],\n",
              "       [0.66666667, 0.5       , 0.77966102, 0.95833333],\n",
              "       [0.72222222, 0.5       , 0.69491525, 0.91666667],\n",
              "       [0.41666667, 0.31818182, 0.69491525, 0.75      ],\n",
              "       [0.69444444, 0.54545455, 0.83050847, 0.91666667],\n",
              "       [0.66666667, 0.59090909, 0.79661017, 1.        ],\n",
              "       [0.66666667, 0.45454545, 0.71186441, 0.91666667],\n",
              "       [0.55555556, 0.22727273, 0.6779661 , 0.75      ],\n",
              "       [0.61111111, 0.45454545, 0.71186441, 0.79166667],\n",
              "       [0.52777778, 0.63636364, 0.74576271, 0.91666667],\n",
              "       [0.44444444, 0.45454545, 0.69491525, 0.70833333]])"
            ]
          },
          "metadata": {},
          "execution_count": 18
        }
      ]
    },
    {
      "cell_type": "code",
      "source": [
        "from sklearn.preprocessing import StandardScaler\n",
        "scaler=StandardScaler()\n",
        "\n",
        "#standardize the data and store in out_scaled numpy array\n",
        "out_scaled=scaler.fit_transform(df[cols])\n",
        "out_scaled[:10]"
      ],
      "metadata": {
        "colab": {
          "base_uri": "https://localhost:8080/"
        },
        "id": "P6F9GbnFEKWi",
        "outputId": "9782e649-790d-4cf8-e73a-2dce6325b0e2"
      },
      "execution_count": 19,
      "outputs": [
        {
          "output_type": "execute_result",
          "data": {
            "text/plain": [
              "array([[        nan,  1.0873808 , -1.3749907 , -1.34813339],\n",
              "       [-1.17061344, -0.10017475, -1.3749907 , -1.34813339],\n",
              "       [        nan,  0.37484747, -1.4322009 , -1.34813339],\n",
              "       [-1.53260701,  0.13733636, -1.3177805 , -1.34813339],\n",
              "       [-1.04994892,  1.32489192, -1.3749907 , -1.34813339],\n",
              "       [        nan,  2.03742525, -1.2033601 , -1.08336972],\n",
              "       [-1.53260701,  0.84986969, -1.3749907 , -1.21575155],\n",
              "       [-1.04994892,  0.84986969, -1.3177805 , -1.34813339],\n",
              "       [-1.77393605, -0.33768587, -1.3749907 , -1.34813339],\n",
              "       [        nan,         nan,         nan,         nan]])"
            ]
          },
          "metadata": {},
          "execution_count": 19
        }
      ]
    },
    {
      "cell_type": "code",
      "source": [
        "df=pd.read_csv(\"/content/drive/MyDrive/Colab Notebooks/데이터마이닝/datas/long_jump.csv\")\n",
        "df.set_index(\"Person\",inplace=True)"
      ],
      "metadata": {
        "id": "pt3oYke_EKY0"
      },
      "execution_count": 20,
      "outputs": []
    },
    {
      "cell_type": "code",
      "source": [
        "# filter in categorical columns for demonstration\n",
        "cats=[\"Jersey Size\",\"Shoe Size\"]\n",
        "print(df[cats])"
      ],
      "metadata": {
        "colab": {
          "base_uri": "https://localhost:8080/"
        },
        "id": "w3tnM9qFEKbS",
        "outputId": "204524af-33c5-4d73-a4d5-8c2c34a54829"
      },
      "execution_count": 21,
      "outputs": [
        {
          "output_type": "stream",
          "name": "stdout",
          "text": [
            "        Jersey Size  Shoe Size\n",
            "Person                        \n",
            "Thomas        small          7\n",
            "Jane         medium         10\n",
            "Vaughn        large         12\n",
            "Vera         medium          9\n",
            "Vincent       large         12\n",
            "Lei-Ann       small          7\n"
          ]
        }
      ]
    },
    {
      "cell_type": "code",
      "source": [
        "from sklearn.preprocessing import OrdinalEncoder\n",
        "enc=OrdinalEncoder()\n",
        "\n",
        "#fit and transform in one call and print categories\n",
        "out_enc=enc.fit_transform(df[cats])\n",
        "print(\"identified categories\")\n",
        "print(enc.categories_)\n",
        "print(\"encoded data:\")\n",
        "print(out_enc)"
      ],
      "metadata": {
        "colab": {
          "base_uri": "https://localhost:8080/"
        },
        "id": "lAPvdfZLEKdZ",
        "outputId": "28f0d85a-05da-4d74-f196-3b84c725f7a1"
      },
      "execution_count": 22,
      "outputs": [
        {
          "output_type": "stream",
          "name": "stdout",
          "text": [
            "identified categories\n",
            "[array(['large', 'medium', 'small'], dtype=object), array([ 7,  9, 10, 12])]\n",
            "encoded data:\n",
            "[[2. 0.]\n",
            " [1. 2.]\n",
            " [0. 3.]\n",
            " [1. 1.]\n",
            " [0. 3.]\n",
            " [2. 0.]]\n"
          ]
        }
      ]
    },
    {
      "cell_type": "code",
      "source": [
        "# overwrite categorical features in original dataframe\n",
        "df[cats]=out_enc\n",
        "print(df.head())"
      ],
      "metadata": {
        "colab": {
          "base_uri": "https://localhost:8080/"
        },
        "id": "mIlo0YH6EKgE",
        "outputId": "d3d9e39d-562d-4630-cf07-1cda88e7e53f"
      },
      "execution_count": 23,
      "outputs": [
        {
          "output_type": "stream",
          "name": "stdout",
          "text": [
            "         Age  Height  Weight  Training Hours/week Jersey Color  Jersey Size  \\\n",
            "Person                                                                        \n",
            "Thomas    12    57.5    73.4                  6.5         blue          2.0   \n",
            "Jane      13    65.5    85.3                  8.9        green          1.0   \n",
            "Vaughn    17    71.9   125.9                  1.1        green          0.0   \n",
            "Vera      14    65.3   100.5                  7.9          red          1.0   \n",
            "Vincent   18    70.1   110.7                 10.5         blue          0.0   \n",
            "\n",
            "         Shoe Size  Long Jump  \n",
            "Person                         \n",
            "Thomas         0.0       19.2  \n",
            "Jane           2.0       25.1  \n",
            "Vaughn         3.0       14.3  \n",
            "Vera           1.0       18.3  \n",
            "Vincent        3.0       21.1  \n"
          ]
        }
      ]
    },
    {
      "cell_type": "code",
      "source": [
        "# import module and instantiate enc object\n",
        "from sklearn.preprocessing import OneHotEncoder\n",
        "enc=OneHotEncoder(sparse=False)"
      ],
      "metadata": {
        "id": "HfOdRW-UEKiG"
      },
      "execution_count": 24,
      "outputs": []
    },
    {
      "cell_type": "code",
      "source": [
        "# fit and transform in one call and print categories\n",
        "out_enc=enc.fit_transform(df[cats])\n",
        "new_cols=enc.get_feature_names_out(cats).tolist()\n",
        "print(new_cols)"
      ],
      "metadata": {
        "colab": {
          "base_uri": "https://localhost:8080/"
        },
        "id": "vDWo0pJgEKko",
        "outputId": "eace8cec-3c4c-486a-cc54-3ca6aeb79f48"
      },
      "execution_count": 25,
      "outputs": [
        {
          "output_type": "stream",
          "name": "stdout",
          "text": [
            "['Jersey Size_0.0', 'Jersey Size_1.0', 'Jersey Size_2.0', 'Shoe Size_0.0', 'Shoe Size_1.0', 'Shoe Size_2.0', 'Shoe Size_3.0']\n"
          ]
        }
      ]
    },
    {
      "cell_type": "code",
      "source": [
        "# create temporary dataframe \"df_enc\" for concatenation with original data\n",
        "df_enc=pd.DataFrame(data=out_enc,columns=new_cols)\n",
        "df_enc.index=df.index\n",
        "\n",
        "#drop original columns and concat new encoded columns\n",
        "df.drop(cats,axis=1,inplace=True)\n",
        "df=pd.concat([df,df_enc],axis=1)\n",
        "print(df.columns)"
      ],
      "metadata": {
        "colab": {
          "base_uri": "https://localhost:8080/"
        },
        "id": "qwwwLONPEKml",
        "outputId": "da1665a7-31f9-4dc7-8921-e61f2a8c46ff"
      },
      "execution_count": 26,
      "outputs": [
        {
          "output_type": "stream",
          "name": "stdout",
          "text": [
            "Index(['Age', 'Height', 'Weight', 'Training Hours/week', 'Jersey Color',\n",
            "       'Long Jump', 'Jersey Size_0.0', 'Jersey Size_1.0', 'Jersey Size_2.0',\n",
            "       'Shoe Size_0.0', 'Shoe Size_1.0', 'Shoe Size_2.0', 'Shoe Size_3.0'],\n",
            "      dtype='object')\n"
          ]
        }
      ]
    },
    {
      "cell_type": "code",
      "source": [
        "# import modules and instantiate enc object\n",
        "from sklearn import preprocessing\n",
        "enc=preprocessing.LabelEncoder()\n",
        "\n",
        "# fit with integer labels and transform\n",
        "out_enc=enc.fit_transform([1,2,5,2,4,2,5])\n",
        "print(out_enc)\n",
        "\n",
        "# fit with string labels and transform\n",
        "out_enc=enc.fit_transform([\"blue\",\"red\",\"blue\",\"green\",\"red\",\"red\"])\n",
        "print(out_enc)"
      ],
      "metadata": {
        "colab": {
          "base_uri": "https://localhost:8080/"
        },
        "id": "nM1oNzanEWZz",
        "outputId": "9dd53b58-855f-4581-fae8-a51bad847386"
      },
      "execution_count": 27,
      "outputs": [
        {
          "output_type": "stream",
          "name": "stdout",
          "text": [
            "[0 1 3 1 2 1 3]\n",
            "[0 2 0 1 2 2]\n"
          ]
        }
      ]
    },
    {
      "cell_type": "code",
      "source": [
        "# ex.\n",
        "genders=[\"female\",\"male\"]\n",
        "locations=[\"from Africa\",\"from Asia\",\"from Europe\",\"from US\"]\n",
        "browsers=[\"uses Chrome\",\"uses Firefox\",\"uses IE\",\"uses Safari\"]\n",
        "enc=preprocessing.OrdinalEncoder(categories=[genders,locations,browsers])\n",
        "\n",
        "X=[[\"male\",\"from US\",\"uses Safari\"],[\"female\",\"from Europe\",\"uses Firefox\"]]\n",
        "enc.fit(X)"
      ],
      "metadata": {
        "colab": {
          "base_uri": "https://localhost:8080/"
        },
        "id": "vBOHZfagEWcW",
        "outputId": "b68ec9fb-966c-49cf-9602-4b76a5bf2781"
      },
      "execution_count": 28,
      "outputs": [
        {
          "output_type": "execute_result",
          "data": {
            "text/plain": [
              "OrdinalEncoder(categories=[['female', 'male'],\n",
              "                           ['from Africa', 'from Asia', 'from Europe',\n",
              "                            'from US'],\n",
              "                           ['uses Chrome', 'uses Firefox', 'uses IE',\n",
              "                            'uses Safari']])"
            ]
          },
          "metadata": {},
          "execution_count": 28
        }
      ]
    },
    {
      "cell_type": "code",
      "source": [
        "enc.transform([[\"female\",\"from US\",\"uses IE\"]])"
      ],
      "metadata": {
        "colab": {
          "base_uri": "https://localhost:8080/"
        },
        "id": "2WdMUWcHEWe6",
        "outputId": "be81aaba-cc54-43ce-9f98-85870cfa6e66"
      },
      "execution_count": 29,
      "outputs": [
        {
          "output_type": "execute_result",
          "data": {
            "text/plain": [
              "array([[0., 3., 2.]])"
            ]
          },
          "metadata": {},
          "execution_count": 29
        }
      ]
    },
    {
      "cell_type": "code",
      "source": [
        "df=pd.read_csv(\"/content/drive/MyDrive/Colab Notebooks/데이터마이닝/datas/iris.csv\");\n",
        "df.index.name='record'\n",
        "df"
      ],
      "metadata": {
        "colab": {
          "base_uri": "https://localhost:8080/",
          "height": 455
        },
        "id": "kJ_1W96jEWhS",
        "outputId": "8600a51e-b72d-481e-a6aa-9d227b89278b"
      },
      "execution_count": 30,
      "outputs": [
        {
          "output_type": "execute_result",
          "data": {
            "text/plain": [
              "        sepal length in cm  sepal width in cm  petal length in cm  \\\n",
              "record                                                              \n",
              "0                      5.1                3.5                 1.4   \n",
              "1                      4.9                3.0                 1.4   \n",
              "2                      4.7                3.2                 1.3   \n",
              "3                      4.6                3.1                 1.5   \n",
              "4                      5.0                3.6                 1.4   \n",
              "...                    ...                ...                 ...   \n",
              "145                    6.7                3.0                 5.2   \n",
              "146                    6.3                2.5                 5.0   \n",
              "147                    6.5                3.0                 5.2   \n",
              "148                    6.2                3.4                 5.4   \n",
              "149                    5.9                3.0                 5.1   \n",
              "\n",
              "        petal width in cm    species  \n",
              "record                                \n",
              "0                     0.2     setosa  \n",
              "1                     0.2     setosa  \n",
              "2                     0.2     setosa  \n",
              "3                     0.2     setosa  \n",
              "4                     0.2     setosa  \n",
              "...                   ...        ...  \n",
              "145                   2.3  virginica  \n",
              "146                   1.9  virginica  \n",
              "147                   2.0  virginica  \n",
              "148                   2.3  virginica  \n",
              "149                   1.8  virginica  \n",
              "\n",
              "[150 rows x 5 columns]"
            ],
            "text/html": [
              "\n",
              "  <div id=\"df-df2b7f8b-f4f5-4981-86a5-4c2c20065294\">\n",
              "    <div class=\"colab-df-container\">\n",
              "      <div>\n",
              "<style scoped>\n",
              "    .dataframe tbody tr th:only-of-type {\n",
              "        vertical-align: middle;\n",
              "    }\n",
              "\n",
              "    .dataframe tbody tr th {\n",
              "        vertical-align: top;\n",
              "    }\n",
              "\n",
              "    .dataframe thead th {\n",
              "        text-align: right;\n",
              "    }\n",
              "</style>\n",
              "<table border=\"1\" class=\"dataframe\">\n",
              "  <thead>\n",
              "    <tr style=\"text-align: right;\">\n",
              "      <th></th>\n",
              "      <th>sepal length in cm</th>\n",
              "      <th>sepal width in cm</th>\n",
              "      <th>petal length in cm</th>\n",
              "      <th>petal width in cm</th>\n",
              "      <th>species</th>\n",
              "    </tr>\n",
              "    <tr>\n",
              "      <th>record</th>\n",
              "      <th></th>\n",
              "      <th></th>\n",
              "      <th></th>\n",
              "      <th></th>\n",
              "      <th></th>\n",
              "    </tr>\n",
              "  </thead>\n",
              "  <tbody>\n",
              "    <tr>\n",
              "      <th>0</th>\n",
              "      <td>5.1</td>\n",
              "      <td>3.5</td>\n",
              "      <td>1.4</td>\n",
              "      <td>0.2</td>\n",
              "      <td>setosa</td>\n",
              "    </tr>\n",
              "    <tr>\n",
              "      <th>1</th>\n",
              "      <td>4.9</td>\n",
              "      <td>3.0</td>\n",
              "      <td>1.4</td>\n",
              "      <td>0.2</td>\n",
              "      <td>setosa</td>\n",
              "    </tr>\n",
              "    <tr>\n",
              "      <th>2</th>\n",
              "      <td>4.7</td>\n",
              "      <td>3.2</td>\n",
              "      <td>1.3</td>\n",
              "      <td>0.2</td>\n",
              "      <td>setosa</td>\n",
              "    </tr>\n",
              "    <tr>\n",
              "      <th>3</th>\n",
              "      <td>4.6</td>\n",
              "      <td>3.1</td>\n",
              "      <td>1.5</td>\n",
              "      <td>0.2</td>\n",
              "      <td>setosa</td>\n",
              "    </tr>\n",
              "    <tr>\n",
              "      <th>4</th>\n",
              "      <td>5.0</td>\n",
              "      <td>3.6</td>\n",
              "      <td>1.4</td>\n",
              "      <td>0.2</td>\n",
              "      <td>setosa</td>\n",
              "    </tr>\n",
              "    <tr>\n",
              "      <th>...</th>\n",
              "      <td>...</td>\n",
              "      <td>...</td>\n",
              "      <td>...</td>\n",
              "      <td>...</td>\n",
              "      <td>...</td>\n",
              "    </tr>\n",
              "    <tr>\n",
              "      <th>145</th>\n",
              "      <td>6.7</td>\n",
              "      <td>3.0</td>\n",
              "      <td>5.2</td>\n",
              "      <td>2.3</td>\n",
              "      <td>virginica</td>\n",
              "    </tr>\n",
              "    <tr>\n",
              "      <th>146</th>\n",
              "      <td>6.3</td>\n",
              "      <td>2.5</td>\n",
              "      <td>5.0</td>\n",
              "      <td>1.9</td>\n",
              "      <td>virginica</td>\n",
              "    </tr>\n",
              "    <tr>\n",
              "      <th>147</th>\n",
              "      <td>6.5</td>\n",
              "      <td>3.0</td>\n",
              "      <td>5.2</td>\n",
              "      <td>2.0</td>\n",
              "      <td>virginica</td>\n",
              "    </tr>\n",
              "    <tr>\n",
              "      <th>148</th>\n",
              "      <td>6.2</td>\n",
              "      <td>3.4</td>\n",
              "      <td>5.4</td>\n",
              "      <td>2.3</td>\n",
              "      <td>virginica</td>\n",
              "    </tr>\n",
              "    <tr>\n",
              "      <th>149</th>\n",
              "      <td>5.9</td>\n",
              "      <td>3.0</td>\n",
              "      <td>5.1</td>\n",
              "      <td>1.8</td>\n",
              "      <td>virginica</td>\n",
              "    </tr>\n",
              "  </tbody>\n",
              "</table>\n",
              "<p>150 rows × 5 columns</p>\n",
              "</div>\n",
              "      <button class=\"colab-df-convert\" onclick=\"convertToInteractive('df-df2b7f8b-f4f5-4981-86a5-4c2c20065294')\"\n",
              "              title=\"Convert this dataframe to an interactive table.\"\n",
              "              style=\"display:none;\">\n",
              "        \n",
              "  <svg xmlns=\"http://www.w3.org/2000/svg\" height=\"24px\"viewBox=\"0 0 24 24\"\n",
              "       width=\"24px\">\n",
              "    <path d=\"M0 0h24v24H0V0z\" fill=\"none\"/>\n",
              "    <path d=\"M18.56 5.44l.94 2.06.94-2.06 2.06-.94-2.06-.94-.94-2.06-.94 2.06-2.06.94zm-11 1L8.5 8.5l.94-2.06 2.06-.94-2.06-.94L8.5 2.5l-.94 2.06-2.06.94zm10 10l.94 2.06.94-2.06 2.06-.94-2.06-.94-.94-2.06-.94 2.06-2.06.94z\"/><path d=\"M17.41 7.96l-1.37-1.37c-.4-.4-.92-.59-1.43-.59-.52 0-1.04.2-1.43.59L10.3 9.45l-7.72 7.72c-.78.78-.78 2.05 0 2.83L4 21.41c.39.39.9.59 1.41.59.51 0 1.02-.2 1.41-.59l7.78-7.78 2.81-2.81c.8-.78.8-2.07 0-2.86zM5.41 20L4 18.59l7.72-7.72 1.47 1.35L5.41 20z\"/>\n",
              "  </svg>\n",
              "      </button>\n",
              "      \n",
              "  <style>\n",
              "    .colab-df-container {\n",
              "      display:flex;\n",
              "      flex-wrap:wrap;\n",
              "      gap: 12px;\n",
              "    }\n",
              "\n",
              "    .colab-df-convert {\n",
              "      background-color: #E8F0FE;\n",
              "      border: none;\n",
              "      border-radius: 50%;\n",
              "      cursor: pointer;\n",
              "      display: none;\n",
              "      fill: #1967D2;\n",
              "      height: 32px;\n",
              "      padding: 0 0 0 0;\n",
              "      width: 32px;\n",
              "    }\n",
              "\n",
              "    .colab-df-convert:hover {\n",
              "      background-color: #E2EBFA;\n",
              "      box-shadow: 0px 1px 2px rgba(60, 64, 67, 0.3), 0px 1px 3px 1px rgba(60, 64, 67, 0.15);\n",
              "      fill: #174EA6;\n",
              "    }\n",
              "\n",
              "    [theme=dark] .colab-df-convert {\n",
              "      background-color: #3B4455;\n",
              "      fill: #D2E3FC;\n",
              "    }\n",
              "\n",
              "    [theme=dark] .colab-df-convert:hover {\n",
              "      background-color: #434B5C;\n",
              "      box-shadow: 0px 1px 3px 1px rgba(0, 0, 0, 0.15);\n",
              "      filter: drop-shadow(0px 1px 2px rgba(0, 0, 0, 0.3));\n",
              "      fill: #FFFFFF;\n",
              "    }\n",
              "  </style>\n",
              "\n",
              "      <script>\n",
              "        const buttonEl =\n",
              "          document.querySelector('#df-df2b7f8b-f4f5-4981-86a5-4c2c20065294 button.colab-df-convert');\n",
              "        buttonEl.style.display =\n",
              "          google.colab.kernel.accessAllowed ? 'block' : 'none';\n",
              "\n",
              "        async function convertToInteractive(key) {\n",
              "          const element = document.querySelector('#df-df2b7f8b-f4f5-4981-86a5-4c2c20065294');\n",
              "          const dataTable =\n",
              "            await google.colab.kernel.invokeFunction('convertToInteractive',\n",
              "                                                     [key], {});\n",
              "          if (!dataTable) return;\n",
              "\n",
              "          const docLinkHtml = 'Like what you see? Visit the ' +\n",
              "            '<a target=\"_blank\" href=https://colab.research.google.com/notebooks/data_table.ipynb>data table notebook</a>'\n",
              "            + ' to learn more about interactive tables.';\n",
              "          element.innerHTML = '';\n",
              "          dataTable['output_type'] = 'display_data';\n",
              "          await google.colab.output.renderOutput(dataTable, element);\n",
              "          const docLink = document.createElement('div');\n",
              "          docLink.innerHTML = docLinkHtml;\n",
              "          element.appendChild(docLink);\n",
              "        }\n",
              "      </script>\n",
              "    </div>\n",
              "  </div>\n",
              "  "
            ]
          },
          "metadata": {},
          "execution_count": 30
        }
      ]
    },
    {
      "cell_type": "code",
      "source": [
        "# pca 방법\n",
        "import seaborn as sns\n",
        "from sklearn.decomposition import PCA\n",
        "pca=PCA(n_components=2)\n",
        "out_pca=pca.fit_transform(df[[\"sepal length in cm\", \"sepal width in cm\", \"petal length in cm\",\"petal width in cm\"]]) # 4 cols input dimensions\n",
        "df_pca=pd.DataFrame(data=out_pca, columns=[\"pca1\",\"pca2\"])\n",
        "df_pca=pd.concat([df_pca,df[[\"species\"]]],axis=1)\n",
        "sns.lmplot(x=\"pca1\",y=\"pca2\",hue=\"species\",data=df_pca,fit_reg=False)"
      ],
      "metadata": {
        "colab": {
          "base_uri": "https://localhost:8080/",
          "height": 387
        },
        "id": "SGMD4CG2EWjH",
        "outputId": "c15be39c-e6b3-42b3-b9bf-a4dcda2d4daf"
      },
      "execution_count": 32,
      "outputs": [
        {
          "output_type": "execute_result",
          "data": {
            "text/plain": [
              "<seaborn.axisgrid.FacetGrid at 0x7f3e25fdde50>"
            ]
          },
          "metadata": {},
          "execution_count": 32
        },
        {
          "output_type": "display_data",
          "data": {
            "text/plain": [
              "<Figure size 444.75x360 with 1 Axes>"
            ],
            "image/png": "[encoded data removed]"
          },
          "metadata": {
            "needs_background": "light"
          }
        }
      ]
    },
    {
      "cell_type": "code",
      "source": [
        "# lda 방법\n",
        "from sklearn.discriminant_analysis import LinearDiscriminantAnalysis\n",
        "lda=LinearDiscriminantAnalysis(n_components=2)\n",
        "cols=[\"sepal length in cm\", \"sepal width in cm\", \"petal length in cm\",\"petal width in cm\"]\n",
        "lda.fit(df[cols],df[\"species\"])\n",
        "out_lda=lda.transform(df[cols])\n",
        "\n",
        "df_lda=pd.DataFrame(data=out_lda,columns=[\"lda1\",\"lda2\"])\n",
        "df_lda=pd.concat([df_lda,df[[\"species\"]]],axis=1)\n",
        "sns.lmplot(x=\"lda1\",y=\"lda2\",hue=\"species\",data=df_lda,fit_reg=False)"
      ],
      "metadata": {
        "colab": {
          "base_uri": "https://localhost:8080/",
          "height": 387
        },
        "id": "guAsM6C8Ee-S",
        "outputId": "0703d413-f27c-4a42-8fb8-462195625de5"
      },
      "execution_count": 33,
      "outputs": [
        {
          "output_type": "execute_result",
          "data": {
            "text/plain": [
              "<seaborn.axisgrid.FacetGrid at 0x7f3e22f88e10>"
            ]
          },
          "metadata": {},
          "execution_count": 33
        },
        {
          "output_type": "display_data",
          "data": {
            "text/plain": [
              "<Figure size 444.75x360 with 1 Axes>"
            ],
            "image/png": "[encoded data removed]"
          },
          "metadata": {
            "needs_background": "light"
          }
        }
      ]
    }
  ]
}