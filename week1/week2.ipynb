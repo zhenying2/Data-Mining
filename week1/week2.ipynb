{
  "nbformat": 4,
  "nbformat_minor": 0,
  "metadata": {
    "colab": {
      "name": "week2.ipynb",
      "provenance": []
    },
    "kernelspec": {
      "name": "python3",
      "display_name": "Python 3"
    },
    "language_info": {
      "name": "python"
    }
  },
  "cells": [
    {
      "cell_type": "markdown",
      "source": [
        "# 여러가지 방법으로 data load 하기"
      ],
      "metadata": {
        "id": "1lcAsn5_Rz3n"
      }
    },
    {
      "cell_type": "code",
      "execution_count": 1,
      "metadata": {
        "colab": {
          "base_uri": "https://localhost:8080/"
        },
        "id": "lj2PqZmgRc1Y",
        "outputId": "53d69fe8-bd99-42f3-ea9f-e17a074d30c3"
      },
      "outputs": [
        {
          "output_type": "stream",
          "name": "stdout",
          "text": [
            "Mounted at /content/drive\n"
          ]
        }
      ],
      "source": [
        "from google.colab import drive\n",
        "drive.mount('/content/drive')"
      ]
    },
    {
      "cell_type": "markdown",
      "source": [
        "## 구글 코랩 내에 데이터 파일로부터 data load 하기"
      ],
      "metadata": {
        "id": "KH75EUHNSF7F"
      }
    },
    {
      "cell_type": "code",
      "source": [
        "import pandas as pd\n",
        "df=pd.read_csv('/content/drive/MyDrive/Colab Notebooks/데이터마이닝/datas/iris.csv')\n",
        "print(df.head())"
      ],
      "metadata": {
        "colab": {
          "base_uri": "https://localhost:8080/"
        },
        "id": "krhhepRFRiBa",
        "outputId": "bcdb385a-eb2b-4a80-e907-5c265ad63031"
      },
      "execution_count": 2,
      "outputs": [
        {
          "output_type": "stream",
          "name": "stdout",
          "text": [
            "   sepal length in cm  sepal width in cm  petal length in cm  \\\n",
            "0                 5.1                3.5                 1.4   \n",
            "1                 4.9                3.0                 1.4   \n",
            "2                 4.7                3.2                 1.3   \n",
            "3                 4.6                3.1                 1.5   \n",
            "4                 5.0                3.6                 1.4   \n",
            "\n",
            "   petal width in cm species  \n",
            "0                0.2  setosa  \n",
            "1                0.2  setosa  \n",
            "2                0.2  setosa  \n",
            "3                0.2  setosa  \n",
            "4                0.2  setosa  \n"
          ]
        }
      ]
    },
    {
      "cell_type": "code",
      "source": [
        "# make some changes\n",
        "# create an index\n",
        "df.index.name=\"record\"\n",
        "df[\"species\"]=\"new-species\"\n",
        "print(df.head())\n",
        "\n",
        "# save to file\n",
        "df.to_csv('/content/drive/MyDrive/Colab Notebooks/데이터마이닝/datas/iris_updated.csv', index=True)"
      ],
      "metadata": {
        "colab": {
          "base_uri": "https://localhost:8080/"
        },
        "id": "DD_VNC1yRiH4",
        "outputId": "78df81e4-0fb5-478b-a694-b33b9478fbc6"
      },
      "execution_count": 3,
      "outputs": [
        {
          "output_type": "stream",
          "name": "stdout",
          "text": [
            "        sepal length in cm  sepal width in cm  petal length in cm  \\\n",
            "record                                                              \n",
            "0                      5.1                3.5                 1.4   \n",
            "1                      4.9                3.0                 1.4   \n",
            "2                      4.7                3.2                 1.3   \n",
            "3                      4.6                3.1                 1.5   \n",
            "4                      5.0                3.6                 1.4   \n",
            "\n",
            "        petal width in cm      species  \n",
            "record                                  \n",
            "0                     0.2  new-species  \n",
            "1                     0.2  new-species  \n",
            "2                     0.2  new-species  \n",
            "3                     0.2  new-species  \n",
            "4                     0.2  new-species  \n"
          ]
        }
      ]
    },
    {
      "cell_type": "markdown",
      "source": [
        "## web url을 사용하여 data load 하기"
      ],
      "metadata": {
        "id": "QbnFtvmdSOUy"
      }
    },
    {
      "cell_type": "code",
      "source": [
        "# load from web URL\n",
        "url=\"https://archive.ics.uci.edu/ml/machine-learning-databases/iris/iris.data\"\n",
        "names=[\"sepal length in cm\", \"sepal width in cm\",\"petal length in cm\",\"petal width in cm\",\"species\"]\n",
        "df=pd.read_csv(url,names=names)\n",
        "print(df.head())"
      ],
      "metadata": {
        "colab": {
          "base_uri": "https://localhost:8080/"
        },
        "id": "tmyMfd9BRiKU",
        "outputId": "f384399f-e457-4793-a2c0-eae20b753f6c"
      },
      "execution_count": 4,
      "outputs": [
        {
          "output_type": "stream",
          "name": "stdout",
          "text": [
            "   sepal length in cm  sepal width in cm  petal length in cm  \\\n",
            "0                 5.1                3.5                 1.4   \n",
            "1                 4.9                3.0                 1.4   \n",
            "2                 4.7                3.2                 1.3   \n",
            "3                 4.6                3.1                 1.5   \n",
            "4                 5.0                3.6                 1.4   \n",
            "\n",
            "   petal width in cm      species  \n",
            "0                0.2  Iris-setosa  \n",
            "1                0.2  Iris-setosa  \n",
            "2                0.2  Iris-setosa  \n",
            "3                0.2  Iris-setosa  \n",
            "4                0.2  Iris-setosa  \n"
          ]
        }
      ]
    },
    {
      "cell_type": "markdown",
      "source": [
        "## web scikit-learn을 사용하여 data load 하기"
      ],
      "metadata": {
        "id": "392nuBtzSS_t"
      }
    },
    {
      "cell_type": "code",
      "source": [
        "# load from web Scikit-learn\n",
        "from sklearn.datasets import load_iris\n",
        "dataset=load_iris()\n",
        "df=pd.DataFrame(dataset.data,columns=dataset.feature_names)\n",
        "df[\"species\"]=dataset.target\n",
        "print(df.head())"
      ],
      "metadata": {
        "colab": {
          "base_uri": "https://localhost:8080/"
        },
        "id": "qjhxn-4bRiMw",
        "outputId": "d18c1955-1ea6-4db8-be74-035e9cdbf293"
      },
      "execution_count": 5,
      "outputs": [
        {
          "output_type": "stream",
          "name": "stdout",
          "text": [
            "   sepal length (cm)  sepal width (cm)  petal length (cm)  petal width (cm)  \\\n",
            "0                5.1               3.5                1.4               0.2   \n",
            "1                4.9               3.0                1.4               0.2   \n",
            "2                4.7               3.2                1.3               0.2   \n",
            "3                4.6               3.1                1.5               0.2   \n",
            "4                5.0               3.6                1.4               0.2   \n",
            "\n",
            "   species  \n",
            "0        0  \n",
            "1        0  \n",
            "2        0  \n",
            "3        0  \n",
            "4        0  \n"
          ]
        }
      ]
    },
    {
      "cell_type": "code",
      "source": [
        "# load from web Scikit-learn \n",
        "from sklearn.datasets import load_digits\n",
        "dataset=load_digits()\n",
        "df=pd.DataFrame(dataset.data,columns=dataset.feature_names)\n",
        "print(df.head())"
      ],
      "metadata": {
        "colab": {
          "base_uri": "https://localhost:8080/"
        },
        "id": "9bU1-smVRiRk",
        "outputId": "958f1727-5e74-46fd-ce1f-ff37deedbc1c"
      },
      "execution_count": 7,
      "outputs": [
        {
          "output_type": "stream",
          "name": "stdout",
          "text": [
            "   pixel_0_0  pixel_0_1  pixel_0_2  pixel_0_3  pixel_0_4  pixel_0_5  \\\n",
            "0        0.0        0.0        5.0       13.0        9.0        1.0   \n",
            "1        0.0        0.0        0.0       12.0       13.0        5.0   \n",
            "2        0.0        0.0        0.0        4.0       15.0       12.0   \n",
            "3        0.0        0.0        7.0       15.0       13.0        1.0   \n",
            "4        0.0        0.0        0.0        1.0       11.0        0.0   \n",
            "\n",
            "   pixel_0_6  pixel_0_7  pixel_1_0  pixel_1_1  ...  pixel_6_6  pixel_6_7  \\\n",
            "0        0.0        0.0        0.0        0.0  ...        0.0        0.0   \n",
            "1        0.0        0.0        0.0        0.0  ...        0.0        0.0   \n",
            "2        0.0        0.0        0.0        0.0  ...        5.0        0.0   \n",
            "3        0.0        0.0        0.0        8.0  ...        9.0        0.0   \n",
            "4        0.0        0.0        0.0        0.0  ...        0.0        0.0   \n",
            "\n",
            "   pixel_7_0  pixel_7_1  pixel_7_2  pixel_7_3  pixel_7_4  pixel_7_5  \\\n",
            "0        0.0        0.0        6.0       13.0       10.0        0.0   \n",
            "1        0.0        0.0        0.0       11.0       16.0       10.0   \n",
            "2        0.0        0.0        0.0        3.0       11.0       16.0   \n",
            "3        0.0        0.0        7.0       13.0       13.0        9.0   \n",
            "4        0.0        0.0        0.0        2.0       16.0        4.0   \n",
            "\n",
            "   pixel_7_6  pixel_7_7  \n",
            "0        0.0        0.0  \n",
            "1        0.0        0.0  \n",
            "2        9.0        0.0  \n",
            "3        0.0        0.0  \n",
            "4        0.0        0.0  \n",
            "\n",
            "[5 rows x 64 columns]\n"
          ]
        }
      ]
    },
    {
      "cell_type": "markdown",
      "source": [
        "## seaborn내의 내장 dataset 이용하여, data load 하기"
      ],
      "metadata": {
        "id": "rU9AA_kZSbBc"
      }
    },
    {
      "cell_type": "code",
      "source": [
        "# load from Seaborn\n",
        "import seaborn as sns\n",
        "df=sns.load_dataset(\"flights\")\n",
        "print(df.head())"
      ],
      "metadata": {
        "colab": {
          "base_uri": "https://localhost:8080/"
        },
        "id": "vE_7RTD8RiPU",
        "outputId": "bba0f532-92cc-4145-d178-32798afe691b"
      },
      "execution_count": 6,
      "outputs": [
        {
          "output_type": "stream",
          "name": "stdout",
          "text": [
            "   year month  passengers\n",
            "0  1949   Jan         112\n",
            "1  1949   Feb         118\n",
            "2  1949   Mar         132\n",
            "3  1949   Apr         129\n",
            "4  1949   May         121\n"
          ]
        }
      ]
    },
    {
      "cell_type": "code",
      "source": [
        "# load from Seaborn\n",
        "import seaborn as sns\n",
        "print(sns.get_dataset_names())"
      ],
      "metadata": {
        "colab": {
          "base_uri": "https://localhost:8080/"
        },
        "id": "mi4HoP-5RxRV",
        "outputId": "f585f4e6-1601-4a8d-a01f-07d2ede12619"
      },
      "execution_count": 8,
      "outputs": [
        {
          "output_type": "stream",
          "name": "stdout",
          "text": [
            "['anagrams', 'anscombe', 'attention', 'brain_networks', 'car_crashes', 'diamonds', 'dots', 'exercise', 'flights', 'fmri', 'gammas', 'geyser', 'iris', 'mpg', 'penguins', 'planets', 'taxis', 'tips', 'titanic']\n"
          ]
        }
      ]
    },
    {
      "cell_type": "code",
      "source": [
        "df=sns.load_dataset(\"diamonds\")\n",
        "print(df.head())"
      ],
      "metadata": {
        "colab": {
          "base_uri": "https://localhost:8080/"
        },
        "id": "wMNj_Y06RxVx",
        "outputId": "0700e67f-5e86-47a6-9859-e327b4749a73"
      },
      "execution_count": 9,
      "outputs": [
        {
          "output_type": "stream",
          "name": "stdout",
          "text": [
            "   carat      cut color clarity  depth  table  price     x     y     z\n",
            "0   0.23    Ideal     E     SI2   61.5   55.0    326  3.95  3.98  2.43\n",
            "1   0.21  Premium     E     SI1   59.8   61.0    326  3.89  3.84  2.31\n",
            "2   0.23     Good     E     VS1   56.9   65.0    327  4.05  4.07  2.31\n",
            "3   0.29  Premium     I     VS2   62.4   58.0    334  4.20  4.23  2.63\n",
            "4   0.31     Good     J     SI2   63.3   58.0    335  4.34  4.35  2.75\n"
          ]
        }
      ]
    }
  ]
}