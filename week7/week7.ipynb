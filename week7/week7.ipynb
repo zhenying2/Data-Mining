{
  "nbformat": 4,
  "nbformat_minor": 0,
  "metadata": {
    "colab": {
      "name": "week7.ipynb",
      "provenance": []
    },
    "kernelspec": {
      "name": "python3",
      "display_name": "Python 3"
    },
    "language_info": {
      "name": "python"
    }
  },
  "cells": [
    {
      "cell_type": "code",
      "source": [
        "# import modules\n",
        "from sklearn.datasets import make_moons\n",
        "from sklearn.model_selection import train_test_split\n",
        "import matplotlib.pyplot as plt\n",
        "\n",
        "# define function get_moon_data()\n",
        "def get_moon_data():\n",
        "  X,y=make_moons(n_samples=150, noise=0.1, random_state=42)\n",
        "  X_train, X_test, y_train, y_test= train_test_split(X,y,test_size=.33, random_state=42)\n",
        "  return [X_train, X_test, y_train, y_test]"
      ],
      "metadata": {
        "id": "6LRvcrFiW2vn"
      },
      "execution_count": 6,
      "outputs": []
    },
    {
      "cell_type": "code",
      "source": [
        "# import module\n",
        "from sklearn.tree import DecisionTreeClassifier\n",
        "from sklearn.metrics import f1_score\n",
        "\n",
        "# get moon data\n",
        "X_train, X_test, y_train, y_test=get_moon_data()\n",
        "\n",
        "# initiate and fit the decision tree object\n",
        "clf=DecisionTreeClassifier(max_depth=3,random_state=42)\n",
        "clf.fit(X_train,y_train)\n",
        "\n",
        "# predict test data and compute f1 score\n",
        "y_pred=clf.predict(X_test)\n",
        "f1=f1_score(y_test,y_pred)\n",
        "print(\"f1 score is = \"+str(f1))"
      ],
      "metadata": {
        "colab": {
          "base_uri": "https://localhost:8080/"
        },
        "id": "9UiLeYi2dzrB",
        "outputId": "fbf5010f-54ba-4c38-f48f-9fb186d9ab76"
      },
      "execution_count": 7,
      "outputs": [
        {
          "output_type": "stream",
          "name": "stdout",
          "text": [
            "f1 score is = 0.8636363636363636\n"
          ]
        }
      ]
    },
    {
      "cell_type": "code",
      "source": [
        "from sklearn.tree import plot_tree\n",
        "plot_tree(clf)"
      ],
      "metadata": {
        "colab": {
          "base_uri": "https://localhost:8080/",
          "height": 450
        },
        "id": "F6lNk5lvdzt4",
        "outputId": "d9f81fc5-4f3a-41c3-ef76-31d943021386"
      },
      "execution_count": 8,
      "outputs": [
        {
          "output_type": "execute_result",
          "data": {
            "text/plain": [
              "[Text(0.5, 0.875, 'X[1] <= 0.078\\ngini = 0.5\\nsamples = 100\\nvalue = [50, 50]'),\n",
              " Text(0.2, 0.625, 'X[0] <= -0.499\\ngini = 0.095\\nsamples = 40\\nvalue = [2, 38]'),\n",
              " Text(0.1, 0.375, 'gini = 0.0\\nsamples = 1\\nvalue = [1, 0]'),\n",
              " Text(0.3, 0.375, 'X[1] <= 0.032\\ngini = 0.05\\nsamples = 39\\nvalue = [1, 38]'),\n",
              " Text(0.2, 0.125, 'gini = 0.0\\nsamples = 36\\nvalue = [0, 36]'),\n",
              " Text(0.4, 0.125, 'gini = 0.444\\nsamples = 3\\nvalue = [1, 2]'),\n",
              " Text(0.8, 0.625, 'X[0] <= 1.493\\ngini = 0.32\\nsamples = 60\\nvalue = [48, 12]'),\n",
              " Text(0.7, 0.375, 'X[1] <= 0.599\\ngini = 0.171\\nsamples = 53\\nvalue = [48, 5]'),\n",
              " Text(0.6, 0.125, 'gini = 0.302\\nsamples = 27\\nvalue = [22, 5]'),\n",
              " Text(0.8, 0.125, 'gini = 0.0\\nsamples = 26\\nvalue = [26, 0]'),\n",
              " Text(0.9, 0.375, 'gini = 0.0\\nsamples = 7\\nvalue = [0, 7]')]"
            ]
          },
          "metadata": {},
          "execution_count": 8
        },
        {
          "output_type": "display_data",
          "data": {
            "text/plain": [
              "<Figure size 432x288 with 1 Axes>"
            ],
            "image/png": "[encoded data removed]"
          },
          "metadata": {
            "needs_background": "light"
          }
        }
      ]
    },
    {
      "cell_type": "code",
      "source": [
        "from sklearn.tree import export_graphviz\n",
        "import graphviz\n",
        "\n",
        "dot_data=export_graphviz(clf,out_file=None)\n",
        "graph=graphviz.Source(dot_data)\n",
        "graph.render('moon_tree')"
      ],
      "metadata": {
        "colab": {
          "base_uri": "https://localhost:8080/",
          "height": 35
        },
        "id": "TxU4sjR8dzwd",
        "outputId": "d6e826ec-35f0-4993-93a7-78530aeb38cb"
      },
      "execution_count": 9,
      "outputs": [
        {
          "output_type": "execute_result",
          "data": {
            "text/plain": [
              "'moon_tree.pdf'"
            ],
            "application/vnd.google.colaboratory.intrinsic+json": {
              "type": "string"
            }
          },
          "metadata": {},
          "execution_count": 9
        }
      ]
    },
    {
      "cell_type": "code",
      "source": [
        "from sklearn.tree import export_graphviz\n",
        "import graphviz\n",
        "dot_data=export_graphviz(clf,out_file=None,feature_names=[\"X_1\",\"X_2\"],class_names=[\"top\",\"bottom\"],filled=True,rounded=True)\n",
        "graph=graphviz.Source(dot_data)\n",
        "graph.render(\"moon_tree_ver2\")"
      ],
      "metadata": {
        "colab": {
          "base_uri": "https://localhost:8080/",
          "height": 35
        },
        "id": "iYoxNxSEdzy8",
        "outputId": "804af19f-bef6-49cb-9f0b-77b4d2806e9a"
      },
      "execution_count": 10,
      "outputs": [
        {
          "output_type": "execute_result",
          "data": {
            "text/plain": [
              "'moon_tree_ver2.pdf'"
            ],
            "application/vnd.google.colaboratory.intrinsic+json": {
              "type": "string"
            }
          },
          "metadata": {},
          "execution_count": 10
        }
      ]
    },
    {
      "cell_type": "code",
      "source": [
        "from sklearn.tree import export_text\n",
        "r=export_text(clf,feature_names=[\"X_1\",\"X_2\"])\n",
        "print(r)"
      ],
      "metadata": {
        "colab": {
          "base_uri": "https://localhost:8080/"
        },
        "id": "3TfpljZudz1L",
        "outputId": "c8ca17b1-75c9-45ff-8656-d9452eba5283"
      },
      "execution_count": 11,
      "outputs": [
        {
          "output_type": "stream",
          "name": "stdout",
          "text": [
            "|--- X_2 <= 0.08\n",
            "|   |--- X_1 <= -0.50\n",
            "|   |   |--- class: 0\n",
            "|   |--- X_1 >  -0.50\n",
            "|   |   |--- X_2 <= 0.03\n",
            "|   |   |   |--- class: 1\n",
            "|   |   |--- X_2 >  0.03\n",
            "|   |   |   |--- class: 1\n",
            "|--- X_2 >  0.08\n",
            "|   |--- X_1 <= 1.49\n",
            "|   |   |--- X_2 <= 0.60\n",
            "|   |   |   |--- class: 0\n",
            "|   |   |--- X_2 >  0.60\n",
            "|   |   |   |--- class: 0\n",
            "|   |--- X_1 >  1.49\n",
            "|   |   |--- class: 1\n",
            "\n"
          ]
        }
      ]
    },
    {
      "cell_type": "code",
      "source": [
        "# import module\n",
        "from sklearn.ensemble import RandomForestClassifier\n",
        "\n",
        "#get moon data\n",
        "X_train, X_test, y_train, y_test=get_moon_data()\n",
        "\n",
        "# initiate and fit the decision tree object\n",
        "clf=RandomForestClassifier(max_depth=3,n_estimators=10,max_features=\"sqrt\",random_state=42,oob_score=True)\n",
        "clf.fit(X_train,y_train)\n",
        "\n",
        "# predict test data and compute f1 score\n",
        "y_pred=clf.predict(X_test)\n",
        "f1=f1_score(y_test,y_pred)\n",
        "print(\"f1 score is = \"+str(f1))\n",
        "\n",
        "# validate using out-of-bag\n",
        "oob_score=clf.oob_score_\n",
        "print(\"OOB score is = \"+str(oob_score))"
      ],
      "metadata": {
        "colab": {
          "base_uri": "https://localhost:8080/"
        },
        "id": "INoD9d5CW2yP",
        "outputId": "d4df7243-a66f-49fa-df88-f994dd87b8af"
      },
      "execution_count": 12,
      "outputs": [
        {
          "output_type": "stream",
          "name": "stdout",
          "text": [
            "f1 score is = 0.888888888888889\n",
            "OOB score is = 0.9\n"
          ]
        }
      ]
    },
    {
      "cell_type": "code",
      "source": [
        "## cross validation\n",
        "# load iris and create X,y\n",
        "from sklearn.datasets import load_iris\n",
        "dataset=load_iris()\n",
        "X,y=dataset.data, dataset.target\n",
        "\n",
        "# import module\n",
        "from sklearn.model_selection import train_test_split\n",
        "\n",
        "# create train and test sets\n",
        "X_train, X_test, y_train, y_test=train_test_split(X,y,test_size=.33,random_state=42)\n",
        "\n",
        "# create validation set from training set\n",
        "X_train, X_val, y_train, y_val=train_test_split(X_train,y_train,test_size=.33,random_state=42)"
      ],
      "metadata": {
        "id": "4ZsLwOgJedys"
      },
      "execution_count": 13,
      "outputs": []
    },
    {
      "cell_type": "code",
      "source": [
        "## k-fold cross validation\n",
        "#load iris and create X and y\n",
        "from sklearn.datasets import load_iris\n",
        "dataset=load_iris()\n",
        "X,y=dataset.data, dataset.target\n",
        "\n",
        "# import modules\n",
        "from sklearn.model_selection import train_test_split\n",
        "from sklearn.linear_model import LogisticRegression\n",
        "from sklearn.model_selection import cross_val_score\n",
        "\n",
        "# create train and test sets\n",
        "X_train, X_test, y_train, y_test=train_test_split(X,y,test_size=.33,random_state=42)\n",
        "\n",
        "# instantiate classifier object and pass to cross_val_score function\n",
        "clf=LogisticRegression(multi_class='ovr')\n",
        "scores=cross_val_score(clf,X_train,y_train,cv=5,scoring=\"accuracy\")\n",
        "print(scores)"
      ],
      "metadata": {
        "colab": {
          "base_uri": "https://localhost:8080/"
        },
        "id": "eUEz8qXved4i",
        "outputId": "80ebe83d-5566-431d-b055-d712914b8782"
      },
      "execution_count": 14,
      "outputs": [
        {
          "output_type": "stream",
          "name": "stdout",
          "text": [
            "[1.   0.85 0.9  1.   0.9 ]\n"
          ]
        }
      ]
    },
    {
      "cell_type": "code",
      "source": [
        "# grid search with k-fold cross-validation\n",
        "# load iris and create X and y\n",
        "from sklearn.datasets import load_iris\n",
        "dataset=load_iris()\n",
        "X,y=dataset.data, dataset.target\n",
        "\n",
        "# import modules\n",
        "from sklearn.svm import SVC\n",
        "from sklearn.model_selection import GridSearchCV\n",
        "from sklearn import metrics\n",
        "from sklearn.model_selection import train_test_split\n",
        "\n",
        "# create train and test sets\n",
        "X_train, X_test, y_train, y_test=train_test_split(X,y,test_size=.33,random_state=42)\n",
        "\n",
        "# instantiate svc and gridsearch object and fit\n",
        "params={'kernel':('linear','rbf'),\"C\":[1,5,10]}\n",
        "svc=SVC(gamma='auto')\n",
        "clf=GridSearchCV(svc,params,cv=5,scoring='f1_macro')\n",
        "clf.fit(X_train,y_train)\n",
        "\n",
        "# print best scoring classifier\n",
        "print(\"Best score is = \"+str(clf.best_score_))\n",
        "print(\"Best parameters are = \"+str(clf.best_params_))"
      ],
      "metadata": {
        "colab": {
          "base_uri": "https://localhost:8080/"
        },
        "id": "mFTT7-36ed6-",
        "outputId": "3d1442a8-d0f5-4bf5-8080-7fef89e0b8e9"
      },
      "execution_count": 15,
      "outputs": [
        {
          "output_type": "stream",
          "name": "stdout",
          "text": [
            "Best score is = 0.9515384615384616\n",
            "Best parameters are = {'C': 5, 'kernel': 'linear'}\n"
          ]
        }
      ]
    },
    {
      "cell_type": "code",
      "source": [
        "# use the resulting classifier to predict on new data\n",
        "y_pred=clf.predict(X_test)\n",
        "f1=metrics.f1_score(y_test,y_pred,average=\"macro\")\n",
        "print(\"f1 score is = \"+str(f1))"
      ],
      "metadata": {
        "colab": {
          "base_uri": "https://localhost:8080/"
        },
        "id": "v0nln5qped9R",
        "outputId": "ca80463c-4912-44f4-9be1-f7bc853d1208"
      },
      "execution_count": 16,
      "outputs": [
        {
          "output_type": "stream",
          "name": "stdout",
          "text": [
            "f1 score is = 0.9784047370254267\n"
          ]
        }
      ]
    },
    {
      "cell_type": "code",
      "source": [
        "import graphviz\n",
        "from sklearn.tree import export_graphviz\n",
        "from sklearn.tree import DecisionTreeClassifier\n",
        "from sklearn.datasets import load_iris\n",
        "from sklearn.model_selection import train_test_split\n",
        "\n",
        "# DecisionTree Classifier\n",
        "dt_clf = DecisionTreeClassifier(random_state=10)\n",
        "\n",
        "iris_data = load_iris()\n",
        "X_train, X_test, y_train, y_test = train_test_split(iris_data.data, iris_data.target,\n",
        "                                                   test_size=0.2, random_state=10)\n",
        "\n",
        "dt_clf.fit(X_train, y_train)"
      ],
      "metadata": {
        "colab": {
          "base_uri": "https://localhost:8080/"
        },
        "id": "NWinaWUAed_s",
        "outputId": "5483c815-ea1b-4786-cdb8-99ecc09cab43"
      },
      "execution_count": 17,
      "outputs": [
        {
          "output_type": "execute_result",
          "data": {
            "text/plain": [
              "DecisionTreeClassifier(random_state=10)"
            ]
          },
          "metadata": {},
          "execution_count": 17
        }
      ]
    },
    {
      "cell_type": "code",
      "source": [
        "dot_data = export_graphviz(dt_clf\n",
        "                          , max_depth=3\n",
        "                          , feature_names=iris_data.feature_names\n",
        "                          , class_names=iris_data.target_names\n",
        "                          , filled=True\n",
        "                          , proportion=True)\n",
        "\n",
        "\n",
        "display(graphviz.Source(dot_data))"
      ],
      "metadata": {
        "colab": {
          "base_uri": "https://localhost:8080/",
          "height": 714
        },
        "id": "NfHQLdA_fPIU",
        "outputId": "a0d6f9fb-fa02-4923-8075-eb4f762818de"
      },
      "execution_count": 18,
      "outputs": [
        {
          "output_type": "display_data",
          "data": {
            "text/plain": [
              "<graphviz.files.Source at 0x7f4a96603ed0>"
            ],
            "image/svg+xml": "<?xml version=\"1.0\" encoding=\"UTF-8\" standalone=\"no\"?>\n<!DOCTYPE svg PUBLIC \"-//W3C//DTD SVG 1.1//EN\"\n \"http://www.w3.org/Graphics/SVG/1.1/DTD/svg11.dtd\">\n<!-- Generated by graphviz version 2.40.1 (20161225.0304)\n -->\n<!-- Title: Tree Pages: 1 -->\n<svg width=\"741pt\" height=\"520pt\"\n viewBox=\"0.00 0.00 740.50 520.00\" xmlns=\"http://www.w3.org/2000/svg\" xmlns:xlink=\"http://www.w3.org/1999/xlink\">\n<g id=\"graph0\" class=\"graph\" transform=\"scale(1 1) rotate(0) translate(4 516)\">\n<title>Tree</title>\n<polygon fill=\"#ffffff\" stroke=\"transparent\" points=\"-4,4 -4,-516 736.5,-516 736.5,4 -4,4\"/>\n<!-- 0 -->\n<g id=\"node1\" class=\"node\">\n<title>0</title>\n<polygon fill=\"#faf8fe\" stroke=\"#000000\" points=\"348.5,-512 148.5,-512 148.5,-429 348.5,-429 348.5,-512\"/>\n<text text-anchor=\"middle\" x=\"248.5\" y=\"-496.8\" font-family=\"Helvetica,sans-Serif\" font-size=\"14.00\" fill=\"#000000\">petal width (cm) &lt;= 0.8</text>\n<text text-anchor=\"middle\" x=\"248.5\" y=\"-481.8\" font-family=\"Helvetica,sans-Serif\" font-size=\"14.00\" fill=\"#000000\">gini = 0.665</text>\n<text text-anchor=\"middle\" x=\"248.5\" y=\"-466.8\" font-family=\"Helvetica,sans-Serif\" font-size=\"14.00\" fill=\"#000000\">samples = 100.0%</text>\n<text text-anchor=\"middle\" x=\"248.5\" y=\"-451.8\" font-family=\"Helvetica,sans-Serif\" font-size=\"14.00\" fill=\"#000000\">value = [0.333, 0.308, 0.358]</text>\n<text text-anchor=\"middle\" x=\"248.5\" y=\"-436.8\" font-family=\"Helvetica,sans-Serif\" font-size=\"14.00\" fill=\"#000000\">class = virginica</text>\n</g>\n<!-- 1 -->\n<g id=\"node2\" class=\"node\">\n<title>1</title>\n<polygon fill=\"#e58139\" stroke=\"#000000\" points=\"231,-385.5 80,-385.5 80,-317.5 231,-317.5 231,-385.5\"/>\n<text text-anchor=\"middle\" x=\"155.5\" y=\"-370.3\" font-family=\"Helvetica,sans-Serif\" font-size=\"14.00\" fill=\"#000000\">gini = 0.0</text>\n<text text-anchor=\"middle\" x=\"155.5\" y=\"-355.3\" font-family=\"Helvetica,sans-Serif\" font-size=\"14.00\" fill=\"#000000\">samples = 33.3%</text>\n<text text-anchor=\"middle\" x=\"155.5\" y=\"-340.3\" font-family=\"Helvetica,sans-Serif\" font-size=\"14.00\" fill=\"#000000\">value = [1.0, 0.0, 0.0]</text>\n<text text-anchor=\"middle\" x=\"155.5\" y=\"-325.3\" font-family=\"Helvetica,sans-Serif\" font-size=\"14.00\" fill=\"#000000\">class = setosa</text>\n</g>\n<!-- 0&#45;&gt;1 -->\n<g id=\"edge1\" class=\"edge\">\n<title>0&#45;&gt;1</title>\n<path fill=\"none\" stroke=\"#000000\" d=\"M215.9731,-428.8796C207.1217,-417.5536 197.5257,-405.2748 188.6407,-393.9058\"/>\n<polygon fill=\"#000000\" stroke=\"#000000\" points=\"191.2331,-391.539 182.3176,-385.8149 185.7176,-395.8494 191.2331,-391.539\"/>\n<text text-anchor=\"middle\" x=\"179.2743\" y=\"-406.929\" font-family=\"Helvetica,sans-Serif\" font-size=\"14.00\" fill=\"#000000\">True</text>\n</g>\n<!-- 2 -->\n<g id=\"node3\" class=\"node\">\n<title>2</title>\n<polygon fill=\"#ede3fb\" stroke=\"#000000\" points=\"433.5,-393 249.5,-393 249.5,-310 433.5,-310 433.5,-393\"/>\n<text text-anchor=\"middle\" x=\"341.5\" y=\"-377.8\" font-family=\"Helvetica,sans-Serif\" font-size=\"14.00\" fill=\"#000000\">petal length (cm) &lt;= 4.75</text>\n<text text-anchor=\"middle\" x=\"341.5\" y=\"-362.8\" font-family=\"Helvetica,sans-Serif\" font-size=\"14.00\" fill=\"#000000\">gini = 0.497</text>\n<text text-anchor=\"middle\" x=\"341.5\" y=\"-347.8\" font-family=\"Helvetica,sans-Serif\" font-size=\"14.00\" fill=\"#000000\">samples = 66.7%</text>\n<text text-anchor=\"middle\" x=\"341.5\" y=\"-332.8\" font-family=\"Helvetica,sans-Serif\" font-size=\"14.00\" fill=\"#000000\">value = [0.0, 0.462, 0.538]</text>\n<text text-anchor=\"middle\" x=\"341.5\" y=\"-317.8\" font-family=\"Helvetica,sans-Serif\" font-size=\"14.00\" fill=\"#000000\">class = virginica</text>\n</g>\n<!-- 0&#45;&gt;2 -->\n<g id=\"edge2\" class=\"edge\">\n<title>0&#45;&gt;2</title>\n<path fill=\"none\" stroke=\"#000000\" d=\"M281.0269,-428.8796C287.9951,-419.9633 295.4247,-410.4565 302.6056,-401.268\"/>\n<polygon fill=\"#000000\" stroke=\"#000000\" points=\"305.4343,-403.3326 308.8343,-393.2981 299.9188,-399.0221 305.4343,-403.3326\"/>\n<text text-anchor=\"middle\" x=\"311.8775\" y=\"-414.4122\" font-family=\"Helvetica,sans-Serif\" font-size=\"14.00\" fill=\"#000000\">False</text>\n</g>\n<!-- 3 -->\n<g id=\"node4\" class=\"node\">\n<title>3</title>\n<polygon fill=\"#3fe685\" stroke=\"#000000\" points=\"332.5,-274 148.5,-274 148.5,-191 332.5,-191 332.5,-274\"/>\n<text text-anchor=\"middle\" x=\"240.5\" y=\"-258.8\" font-family=\"Helvetica,sans-Serif\" font-size=\"14.00\" fill=\"#000000\">petal width (cm) &lt;= 1.65</text>\n<text text-anchor=\"middle\" x=\"240.5\" y=\"-243.8\" font-family=\"Helvetica,sans-Serif\" font-size=\"14.00\" fill=\"#000000\">gini = 0.057</text>\n<text text-anchor=\"middle\" x=\"240.5\" y=\"-228.8\" font-family=\"Helvetica,sans-Serif\" font-size=\"14.00\" fill=\"#000000\">samples = 28.3%</text>\n<text text-anchor=\"middle\" x=\"240.5\" y=\"-213.8\" font-family=\"Helvetica,sans-Serif\" font-size=\"14.00\" fill=\"#000000\">value = [0.0, 0.971, 0.029]</text>\n<text text-anchor=\"middle\" x=\"240.5\" y=\"-198.8\" font-family=\"Helvetica,sans-Serif\" font-size=\"14.00\" fill=\"#000000\">class = versicolor</text>\n</g>\n<!-- 2&#45;&gt;3 -->\n<g id=\"edge3\" class=\"edge\">\n<title>2&#45;&gt;3</title>\n<path fill=\"none\" stroke=\"#000000\" d=\"M306.1751,-309.8796C298.5311,-300.8733 290.3757,-291.2644 282.5039,-281.9897\"/>\n<polygon fill=\"#000000\" stroke=\"#000000\" points=\"285.1151,-279.6574 275.9757,-274.2981 279.7782,-284.1871 285.1151,-279.6574\"/>\n</g>\n<!-- 6 -->\n<g id=\"node7\" class=\"node\">\n<title>6</title>\n<polygon fill=\"#8d4ce7\" stroke=\"#000000\" points=\"534.5,-274 350.5,-274 350.5,-191 534.5,-191 534.5,-274\"/>\n<text text-anchor=\"middle\" x=\"442.5\" y=\"-258.8\" font-family=\"Helvetica,sans-Serif\" font-size=\"14.00\" fill=\"#000000\">petal width (cm) &lt;= 1.75</text>\n<text text-anchor=\"middle\" x=\"442.5\" y=\"-243.8\" font-family=\"Helvetica,sans-Serif\" font-size=\"14.00\" fill=\"#000000\">gini = 0.159</text>\n<text text-anchor=\"middle\" x=\"442.5\" y=\"-228.8\" font-family=\"Helvetica,sans-Serif\" font-size=\"14.00\" fill=\"#000000\">samples = 38.3%</text>\n<text text-anchor=\"middle\" x=\"442.5\" y=\"-213.8\" font-family=\"Helvetica,sans-Serif\" font-size=\"14.00\" fill=\"#000000\">value = [0.0, 0.087, 0.913]</text>\n<text text-anchor=\"middle\" x=\"442.5\" y=\"-198.8\" font-family=\"Helvetica,sans-Serif\" font-size=\"14.00\" fill=\"#000000\">class = virginica</text>\n</g>\n<!-- 2&#45;&gt;6 -->\n<g id=\"edge6\" class=\"edge\">\n<title>2&#45;&gt;6</title>\n<path fill=\"none\" stroke=\"#000000\" d=\"M376.8249,-309.8796C384.4689,-300.8733 392.6243,-291.2644 400.4961,-281.9897\"/>\n<polygon fill=\"#000000\" stroke=\"#000000\" points=\"403.2218,-284.1871 407.0243,-274.2981 397.8849,-279.6574 403.2218,-284.1871\"/>\n</g>\n<!-- 4 -->\n<g id=\"node5\" class=\"node\">\n<title>4</title>\n<polygon fill=\"#39e581\" stroke=\"#000000\" points=\"151,-147.5 0,-147.5 0,-79.5 151,-79.5 151,-147.5\"/>\n<text text-anchor=\"middle\" x=\"75.5\" y=\"-132.3\" font-family=\"Helvetica,sans-Serif\" font-size=\"14.00\" fill=\"#000000\">gini = 0.0</text>\n<text text-anchor=\"middle\" x=\"75.5\" y=\"-117.3\" font-family=\"Helvetica,sans-Serif\" font-size=\"14.00\" fill=\"#000000\">samples = 27.5%</text>\n<text text-anchor=\"middle\" x=\"75.5\" y=\"-102.3\" font-family=\"Helvetica,sans-Serif\" font-size=\"14.00\" fill=\"#000000\">value = [0.0, 1.0, 0.0]</text>\n<text text-anchor=\"middle\" x=\"75.5\" y=\"-87.3\" font-family=\"Helvetica,sans-Serif\" font-size=\"14.00\" fill=\"#000000\">class = versicolor</text>\n</g>\n<!-- 3&#45;&gt;4 -->\n<g id=\"edge4\" class=\"edge\">\n<title>3&#45;&gt;4</title>\n<path fill=\"none\" stroke=\"#000000\" d=\"M182.791,-190.8796C166.093,-178.8368 147.9013,-165.7167 131.3207,-153.7586\"/>\n<polygon fill=\"#000000\" stroke=\"#000000\" points=\"132.9715,-150.6339 122.8135,-147.623 128.8768,-156.3113 132.9715,-150.6339\"/>\n</g>\n<!-- 5 -->\n<g id=\"node6\" class=\"node\">\n<title>5</title>\n<polygon fill=\"#8139e5\" stroke=\"#000000\" points=\"320,-147.5 169,-147.5 169,-79.5 320,-79.5 320,-147.5\"/>\n<text text-anchor=\"middle\" x=\"244.5\" y=\"-132.3\" font-family=\"Helvetica,sans-Serif\" font-size=\"14.00\" fill=\"#000000\">gini = 0.0</text>\n<text text-anchor=\"middle\" x=\"244.5\" y=\"-117.3\" font-family=\"Helvetica,sans-Serif\" font-size=\"14.00\" fill=\"#000000\">samples = 0.8%</text>\n<text text-anchor=\"middle\" x=\"244.5\" y=\"-102.3\" font-family=\"Helvetica,sans-Serif\" font-size=\"14.00\" fill=\"#000000\">value = [0.0, 0.0, 1.0]</text>\n<text text-anchor=\"middle\" x=\"244.5\" y=\"-87.3\" font-family=\"Helvetica,sans-Serif\" font-size=\"14.00\" fill=\"#000000\">class = virginica</text>\n</g>\n<!-- 3&#45;&gt;5 -->\n<g id=\"edge5\" class=\"edge\">\n<title>3&#45;&gt;5</title>\n<path fill=\"none\" stroke=\"#000000\" d=\"M241.899,-190.8796C242.2575,-180.2134 242.6445,-168.7021 243.0075,-157.9015\"/>\n<polygon fill=\"#000000\" stroke=\"#000000\" points=\"246.5085,-157.9269 243.3466,-147.8149 239.5125,-157.6917 246.5085,-157.9269\"/>\n</g>\n<!-- 7 -->\n<g id=\"node8\" class=\"node\">\n<title>7</title>\n<polygon fill=\"#e0cef8\" stroke=\"#000000\" points=\"530.5,-155 346.5,-155 346.5,-72 530.5,-72 530.5,-155\"/>\n<text text-anchor=\"middle\" x=\"438.5\" y=\"-139.8\" font-family=\"Helvetica,sans-Serif\" font-size=\"14.00\" fill=\"#000000\">petal length (cm) &lt;= 5.35</text>\n<text text-anchor=\"middle\" x=\"438.5\" y=\"-124.8\" font-family=\"Helvetica,sans-Serif\" font-size=\"14.00\" fill=\"#000000\">gini = 0.49</text>\n<text text-anchor=\"middle\" x=\"438.5\" y=\"-109.8\" font-family=\"Helvetica,sans-Serif\" font-size=\"14.00\" fill=\"#000000\">samples = 5.8%</text>\n<text text-anchor=\"middle\" x=\"438.5\" y=\"-94.8\" font-family=\"Helvetica,sans-Serif\" font-size=\"14.00\" fill=\"#000000\">value = [0.0, 0.429, 0.571]</text>\n<text text-anchor=\"middle\" x=\"438.5\" y=\"-79.8\" font-family=\"Helvetica,sans-Serif\" font-size=\"14.00\" fill=\"#000000\">class = virginica</text>\n</g>\n<!-- 6&#45;&gt;7 -->\n<g id=\"edge7\" class=\"edge\">\n<title>6&#45;&gt;7</title>\n<path fill=\"none\" stroke=\"#000000\" d=\"M441.101,-190.8796C440.8255,-182.6838 440.5332,-173.9891 440.2479,-165.5013\"/>\n<polygon fill=\"#000000\" stroke=\"#000000\" points=\"443.739,-165.1748 439.905,-155.2981 436.743,-165.41 443.739,-165.1748\"/>\n</g>\n<!-- 14 -->\n<g id=\"node11\" class=\"node\">\n<title>14</title>\n<polygon fill=\"#843ee6\" stroke=\"#000000\" points=\"732.5,-155 548.5,-155 548.5,-72 732.5,-72 732.5,-155\"/>\n<text text-anchor=\"middle\" x=\"640.5\" y=\"-139.8\" font-family=\"Helvetica,sans-Serif\" font-size=\"14.00\" fill=\"#000000\">petal length (cm) &lt;= 4.85</text>\n<text text-anchor=\"middle\" x=\"640.5\" y=\"-124.8\" font-family=\"Helvetica,sans-Serif\" font-size=\"14.00\" fill=\"#000000\">gini = 0.05</text>\n<text text-anchor=\"middle\" x=\"640.5\" y=\"-109.8\" font-family=\"Helvetica,sans-Serif\" font-size=\"14.00\" fill=\"#000000\">samples = 32.5%</text>\n<text text-anchor=\"middle\" x=\"640.5\" y=\"-94.8\" font-family=\"Helvetica,sans-Serif\" font-size=\"14.00\" fill=\"#000000\">value = [0.0, 0.026, 0.974]</text>\n<text text-anchor=\"middle\" x=\"640.5\" y=\"-79.8\" font-family=\"Helvetica,sans-Serif\" font-size=\"14.00\" fill=\"#000000\">class = virginica</text>\n</g>\n<!-- 6&#45;&gt;14 -->\n<g id=\"edge10\" class=\"edge\">\n<title>6&#45;&gt;14</title>\n<path fill=\"none\" stroke=\"#000000\" d=\"M511.7508,-190.8796C528.1797,-181.0056 545.8136,-170.4075 562.5989,-160.3193\"/>\n<polygon fill=\"#000000\" stroke=\"#000000\" points=\"564.5202,-163.2482 571.2883,-155.0969 560.9142,-157.2484 564.5202,-163.2482\"/>\n</g>\n<!-- 8 -->\n<g id=\"node9\" class=\"node\">\n<title>8</title>\n<polygon fill=\"#c0c0c0\" stroke=\"#000000\" points=\"443.5,-36 389.5,-36 389.5,0 443.5,0 443.5,-36\"/>\n<text text-anchor=\"middle\" x=\"416.5\" y=\"-14.3\" font-family=\"Helvetica,sans-Serif\" font-size=\"14.00\" fill=\"#000000\">(...)</text>\n</g>\n<!-- 7&#45;&gt;8 -->\n<g id=\"edge8\" class=\"edge\">\n<title>7&#45;&gt;8</title>\n<path fill=\"none\" stroke=\"#000000\" d=\"M428.9145,-71.8901C426.9178,-63.2227 424.8579,-54.2808 423.0038,-46.2325\"/>\n<polygon fill=\"#000000\" stroke=\"#000000\" points=\"426.3633,-45.2241 420.7077,-36.2651 419.5419,-46.7956 426.3633,-45.2241\"/>\n</g>\n<!-- 13 -->\n<g id=\"node10\" class=\"node\">\n<title>13</title>\n<polygon fill=\"#c0c0c0\" stroke=\"#000000\" points=\"515.5,-36 461.5,-36 461.5,0 515.5,0 515.5,-36\"/>\n<text text-anchor=\"middle\" x=\"488.5\" y=\"-14.3\" font-family=\"Helvetica,sans-Serif\" font-size=\"14.00\" fill=\"#000000\">(...)</text>\n</g>\n<!-- 7&#45;&gt;13 -->\n<g id=\"edge9\" class=\"edge\">\n<title>7&#45;&gt;13</title>\n<path fill=\"none\" stroke=\"#000000\" d=\"M460.2853,-71.8901C465.0272,-62.8331 469.9259,-53.4765 474.2839,-45.1528\"/>\n<polygon fill=\"#000000\" stroke=\"#000000\" points=\"477.3995,-46.7478 478.9371,-36.2651 471.198,-43.5009 477.3995,-46.7478\"/>\n</g>\n<!-- 15 -->\n<g id=\"node12\" class=\"node\">\n<title>15</title>\n<polygon fill=\"#c0c0c0\" stroke=\"#000000\" points=\"616.5,-36 562.5,-36 562.5,0 616.5,0 616.5,-36\"/>\n<text text-anchor=\"middle\" x=\"589.5\" y=\"-14.3\" font-family=\"Helvetica,sans-Serif\" font-size=\"14.00\" fill=\"#000000\">(...)</text>\n</g>\n<!-- 14&#45;&gt;15 -->\n<g id=\"edge11\" class=\"edge\">\n<title>14&#45;&gt;15</title>\n<path fill=\"none\" stroke=\"#000000\" d=\"M618.279,-71.8901C613.4423,-62.8331 608.4456,-53.4765 604.0005,-45.1528\"/>\n<polygon fill=\"#000000\" stroke=\"#000000\" points=\"607.0522,-43.4373 599.2541,-36.2651 600.8775,-46.7348 607.0522,-43.4373\"/>\n</g>\n<!-- 18 -->\n<g id=\"node13\" class=\"node\">\n<title>18</title>\n<polygon fill=\"#c0c0c0\" stroke=\"#000000\" points=\"688.5,-36 634.5,-36 634.5,0 688.5,0 688.5,-36\"/>\n<text text-anchor=\"middle\" x=\"661.5\" y=\"-14.3\" font-family=\"Helvetica,sans-Serif\" font-size=\"14.00\" fill=\"#000000\">(...)</text>\n</g>\n<!-- 14&#45;&gt;18 -->\n<g id=\"edge12\" class=\"edge\">\n<title>14&#45;&gt;18</title>\n<path fill=\"none\" stroke=\"#000000\" d=\"M649.6498,-71.8901C651.5557,-63.2227 653.522,-54.2808 655.2918,-46.2325\"/>\n<polygon fill=\"#000000\" stroke=\"#000000\" points=\"658.7542,-46.7835 657.4836,-36.2651 651.9175,-45.2801 658.7542,-46.7835\"/>\n</g>\n</g>\n</svg>\n"
          },
          "metadata": {}
        }
      ]
    }
  ]
}